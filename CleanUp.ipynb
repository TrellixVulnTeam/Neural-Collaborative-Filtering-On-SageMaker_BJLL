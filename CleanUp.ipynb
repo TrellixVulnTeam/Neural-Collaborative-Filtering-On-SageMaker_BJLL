{
 "cells": [
  {
   "cell_type": "markdown",
   "id": "bdfe90e5",
   "metadata": {},
   "source": [
    "# Clean-up Resource"
   ]
  },
  {
   "cell_type": "markdown",
   "id": "1bd77064",
   "metadata": {},
   "source": [
    "# 1. 세이지 메이커 실험 지우기"
   ]
  },
  {
   "cell_type": "code",
   "execution_count": 2,
   "id": "bfa6d858",
   "metadata": {},
   "outputs": [],
   "source": [
    "import time\n",
    "\n",
    "from smexperiments.experiment import Experiment\n",
    "from smexperiments.trial import Trial\n",
    "from smexperiments.trial_component import TrialComponent"
   ]
  },
  {
   "cell_type": "code",
   "execution_count": 3,
   "id": "930064e1",
   "metadata": {},
   "outputs": [],
   "source": [
    "experiment_name='NCFModel-single-train'  #<== 생성한 experiment_name을 넣어야 합니다."
   ]
  },
  {
   "cell_type": "code",
   "execution_count": 4,
   "id": "a2415791",
   "metadata": {},
   "outputs": [],
   "source": [
    "def cleanup_sme_sdk(experiment):\n",
    "    for trial_summary in experiment.list_trials():\n",
    "        trial = Trial.load(trial_name=trial_summary.trial_name)\n",
    "        for trial_component_summary in trial.list_trial_components():\n",
    "            tc = TrialComponent.load(\n",
    "                trial_component_name=trial_component_summary.trial_component_name)\n",
    "            trial.remove_trial_component(tc)\n",
    "            try:\n",
    "                # comment out to keep trial components\n",
    "                tc.delete()\n",
    "            except:\n",
    "                # tc is associated with another trial\n",
    "                continue\n",
    "            # to prevent throttling\n",
    "            time.sleep(.5)\n",
    "        trial.delete()\n",
    "        experiment_name = experiment.experiment_name\n",
    "    experiment.delete()\n",
    "    print(f\"\\nExperiment {experiment_name} deleted\")"
   ]
  },
  {
   "cell_type": "code",
   "execution_count": null,
   "id": "0dad87db",
   "metadata": {},
   "outputs": [],
   "source": [
    "experiment_to_cleanup = Experiment.load(\n",
    "    # Use experiment name not display name\n",
    "    experiment_name=experiment_name)\n",
    "\n",
    "cleanup_sme_sdk(experiment_to_cleanup)"
   ]
  },
  {
   "cell_type": "markdown",
   "id": "695cbbf9",
   "metadata": {},
   "source": [
    "# 2. S3 버킷 삭제"
   ]
  },
  {
   "cell_type": "code",
   "execution_count": 8,
   "id": "f7de5404",
   "metadata": {},
   "outputs": [],
   "source": [
    "import sagemaker\n",
    "sagemaker_session = sagemaker.session.Session()"
   ]
  },
  {
   "cell_type": "code",
   "execution_count": 9,
   "id": "a3998f07",
   "metadata": {},
   "outputs": [
    {
     "data": {
      "text/plain": [
       "'sagemaker-us-east-1-917939256726'"
      ]
     },
     "execution_count": 9,
     "metadata": {},
     "output_type": "execute_result"
    }
   ],
   "source": [
    "bucket = sagemaker_session.default_bucket()\n",
    "bucket"
   ]
  },
  {
   "cell_type": "code",
   "execution_count": 12,
   "id": "fb725708",
   "metadata": {},
   "outputs": [
    {
     "name": "stdout",
     "output_type": "stream",
     "text": [
      "2022-05-27 11:29:36    2891424 NCFModel/data/ml-1m.test.negative\n",
      "2022-05-27 11:29:36     128039 NCFModel/data/ml-1m.test.rating\n",
      "2022-05-27 11:29:36   20982911 NCFModel/data/ml-1m.train.rating\n"
     ]
    }
   ],
   "source": [
    "!aws s3 ls s3://$bucket/NCFModel --recursive"
   ]
  },
  {
   "cell_type": "code",
   "execution_count": 10,
   "id": "07d5d99c",
   "metadata": {},
   "outputs": [],
   "source": [
    "# !aws s3 rm s3://$bucket/NCFModel --recursive"
   ]
  },
  {
   "cell_type": "code",
   "execution_count": 13,
   "id": "8498f91b",
   "metadata": {},
   "outputs": [
    {
     "name": "stdout",
     "output_type": "stream",
     "text": [
      "2022-05-27 11:29:36    2891424 NCFModel/data/ml-1m.test.negative\n",
      "2022-05-27 11:29:36     128039 NCFModel/data/ml-1m.test.rating\n",
      "2022-05-27 11:29:36   20982911 NCFModel/data/ml-1m.train.rating\n"
     ]
    }
   ],
   "source": [
    "!aws s3 ls s3://$bucket/NCFModel --recursive"
   ]
  },
  {
   "cell_type": "markdown",
   "id": "e7f7a34f",
   "metadata": {},
   "source": [
    "# 3. 세이지 메이커 앤드포인트 삭제 확인\n",
    "- 아래와 같이 콘솔에 가셔서 엔드포인트가 없어야 합니다.\n",
    "    - 만일 존재하면 삭제 해주세요."
   ]
  },
  {
   "cell_type": "markdown",
   "id": "392d1fda",
   "metadata": {},
   "source": [
    "![sm_endpoint_console.png](img/sm_endpoint_console.png)"
   ]
  },
  {
   "cell_type": "markdown",
   "id": "c7321396",
   "metadata": {},
   "source": [
    "# 4. 세이지 메이커 노트북 인스턴스 삭제"
   ]
  },
  {
   "cell_type": "markdown",
   "id": "5ddf31f5",
   "metadata": {},
   "source": [
    "## 아래와 같이 노트북 인스턴스를 선택하고, Stop (중지) 후에 Delete(삭제) 해주세요."
   ]
  },
  {
   "cell_type": "markdown",
   "id": "196b946c",
   "metadata": {},
   "source": [
    "![notebook_instance.png](img/notebook_instance.png)"
   ]
  },
  {
   "cell_type": "code",
   "execution_count": null,
   "id": "6083553f",
   "metadata": {},
   "outputs": [],
   "source": []
  }
 ],
 "metadata": {
  "kernelspec": {
   "display_name": "conda_python3",
   "language": "python",
   "name": "conda_python3"
  },
  "language_info": {
   "codemirror_mode": {
    "name": "ipython",
    "version": 3
   },
   "file_extension": ".py",
   "mimetype": "text/x-python",
   "name": "python",
   "nbconvert_exporter": "python",
   "pygments_lexer": "ipython3",
   "version": "3.6.13"
  }
 },
 "nbformat": 4,
 "nbformat_minor": 5
}
