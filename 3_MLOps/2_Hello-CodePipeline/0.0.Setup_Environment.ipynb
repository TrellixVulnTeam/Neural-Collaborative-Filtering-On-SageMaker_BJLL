{
 "cells": [
  {
   "cell_type": "markdown",
   "id": "8ffba8f1-62fb-4d0a-b39e-1aa83ed6a161",
   "metadata": {},
   "source": [
    "# 셋업 가이드"
   ]
  },
  {
   "cell_type": "markdown",
   "id": "95062a61-8c52-4892-8918-39c7fd2936df",
   "metadata": {
    "tags": []
   },
   "source": [
    "\n",
    "# 1. SageMaker Notebook Role\n",
    "- 이 노트북을 실행하는 role 은 아래와 같은 역할에 대한 권한이 필요 합니다.\n",
    "    - IAMFullAccess\n",
    "    - AmazonS3FullAccess\n",
    "    - AWSCodeBuildAdminAccess\n",
    "    - AWSCodeCommitFullAccess\n",
    "    - AWSCodePipelineFullAccess\n",
    "    - AmazonSageMakerFullAccess\n",
    "\n",
    "\n",
    "# 2. codebuild 실행 Role 생성 필요\n",
    "- codebuild 를 실행하는 역할이 필요 합니다. 이 역할은 아래와 같은 권한이 필요 합니다.\n",
    "- codebuild_service_role:\n",
    "    - CodebuildFullAccess\n",
    "    - AWSCodeCommitFullAccess\n",
    "    - CloudWatchFullAccess    \n",
    "    - AmazonS3FullAccess    \n",
    "    \n",
    "\n",
    "# 3. code pipeline 실행 Role 생성 필요\n",
    "- codepipeline_service_role:\n",
    "    - CodebuildFullAccess\n",
    "    - CodePipelineFullAccess\n",
    "    - CodeCommitFullAccess\n",
    "    - CodeDeployFullAccess\n",
    "    - AmazonS3FullAccess\n",
    "- 필요한 신뢰 정책    \n",
    "    - Trusted Entity\n",
    "        -  \"codebuild.amazonaws.com\",\n",
    "        -  \"codepipeline.amazonaws.com\"\n"
   ]
  },
  {
   "cell_type": "code",
   "execution_count": null,
   "id": "b55a14ac-233a-45be-9e9d-8408f7ff6a5b",
   "metadata": {},
   "outputs": [],
   "source": []
  }
 ],
 "metadata": {
  "kernelspec": {
   "display_name": "conda_python3",
   "language": "python",
   "name": "conda_python3"
  },
  "language_info": {
   "codemirror_mode": {
    "name": "ipython",
    "version": 3
   },
   "file_extension": ".py",
   "mimetype": "text/x-python",
   "name": "python",
   "nbconvert_exporter": "python",
   "pygments_lexer": "ipython3",
   "version": "3.8.12"
  }
 },
 "nbformat": 4,
 "nbformat_minor": 5
}
