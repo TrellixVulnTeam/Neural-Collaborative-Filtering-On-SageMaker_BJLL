{
 "cells": [
  {
   "cell_type": "markdown",
   "id": "dba968ce",
   "metadata": {},
   "source": [
    "# [모듈 3.1] Code Pipeline 생성 하기\n",
    "\n",
    "## 참고 자료\n",
    "- https://docs.aws.amazon.com/codepipeline/latest/userguide/pipelines-create.html\n"
   ]
  },
  {
   "cell_type": "markdown",
   "id": "d3630c47",
   "metadata": {},
   "source": [
    "# 1. 환경 설정\n"
   ]
  },
  {
   "cell_type": "code",
   "execution_count": 8,
   "id": "064de608",
   "metadata": {},
   "outputs": [],
   "source": [
    "%store -r repository_name\n",
    "%store -r code_build_project_name\n",
    "%store -r account_id\n",
    "%store -r region\n",
    "%store -r bucket\n",
    "\n"
   ]
  },
  {
   "cell_type": "markdown",
   "id": "95c9391c",
   "metadata": {},
   "source": [
    "# 2. 파라미터 설정"
   ]
  },
  {
   "cell_type": "code",
   "execution_count": 9,
   "id": "fbdbb145",
   "metadata": {},
   "outputs": [],
   "source": [
    "pipeline_name = \"sagemaker-OnlyTraining-p-ks5pkeukq23i-modelbuild-nb\"\n",
    "# pipeline_role_name = 'arn:aws:iam::189546603447:role/service-role/AWSCodePipelineServiceRole-us-east-1-hello-iris-clone'\n",
    "# pipeline_role_name = \"arn:aws:iam::057716757052:role/service-role/AmazonSageMakerServiceCatalogProductsUseRole\"\n",
    "pipeline_role_name = \"arn:aws:iam::057716757052:role/code-pipeline-gsmoon\"\n",
    "branch_name = 'master'\n",
    "# code_build_project_name = \"iris-build-project\"\n",
    "# S3ObjectKey = \"ExampleCodePipelineSampleBundle.zip\"\n"
   ]
  },
  {
   "cell_type": "markdown",
   "id": "2bcc6572",
   "metadata": {},
   "source": [
    "# 3. 파이프라인 정의를  JSON 정의"
   ]
  },
  {
   "cell_type": "code",
   "execution_count": 10,
   "id": "d9125df2",
   "metadata": {},
   "outputs": [],
   "source": [
    "pipeline_dic = {\n",
    "    \"pipeline\": {\n",
    "        \"name\": pipeline_name,\n",
    "        \"roleArn\": pipeline_role_name,\n",
    "        \"artifactStore\": {\n",
    "            \"type\": \"S3\",\n",
    "            \"location\": bucket\n",
    "        },\n",
    "        \"stages\": [\n",
    "            {\n",
    "                \"name\": \"Source\",\n",
    "                \"actions\": [\n",
    "                    {\n",
    "                        \"name\": \"Source\",\n",
    "                        \"actionTypeId\": {\n",
    "                            \"category\": \"Source\",\n",
    "                            \"owner\": \"AWS\",\n",
    "                            \"provider\": \"CodeCommit\",\n",
    "                            \"version\": \"1\"\n",
    "                        },\n",
    "                        \"runOrder\": 1,\n",
    "                        \"configuration\": {\n",
    "                            \"BranchName\": branch_name,\n",
    "                            \"OutputArtifactFormat\": \"CODE_ZIP\",\n",
    "                            \"PollForSourceChanges\": \"false\",\n",
    "                            \"RepositoryName\": repository_name\n",
    "                        },\n",
    "                        \"outputArtifacts\": [\n",
    "                            {\n",
    "                                \"name\": \"SourceArtifact\"\n",
    "                            }\n",
    "                        ],\n",
    "                        \"inputArtifacts\": [],\n",
    "                        \"region\": region,\n",
    "                        \"namespace\": \"SourceVariables\"\n",
    "                    }\n",
    "                ]\n",
    "            },\n",
    "            {\n",
    "                \"name\": \"Build\",\n",
    "                \"actions\": [\n",
    "                    {\n",
    "                        \"name\": \"BuildAndExecuteSageMakerPipeline\",\n",
    "                        \"actionTypeId\": {\n",
    "                            \"category\": \"Build\",\n",
    "                            \"owner\": \"AWS\",\n",
    "                            \"provider\": \"CodeBuild\",\n",
    "                            \"version\": \"1\"\n",
    "                        },\n",
    "                        \"runOrder\": 1,\n",
    "                        \"configuration\": {\n",
    "                            \"ProjectName\": code_build_project_name\n",
    "                        },\n",
    "                        \"outputArtifacts\": [\n",
    "                            {\n",
    "                                \"name\": \"BuildArtifact\"\n",
    "                            }\n",
    "                        ],\n",
    "                        \"inputArtifacts\": [\n",
    "                            {\n",
    "                                \"name\": \"SourceArtifact\"\n",
    "                            }\n",
    "                        ],\n",
    "                        \"region\": region,\n",
    "                        \"namespace\": \"BuildVariables\"\n",
    "                    }\n",
    "                ]\n",
    "            }\n",
    "        ],\n",
    "        \"version\": 1\n",
    "    },\n",
    "}"
   ]
  },
  {
   "cell_type": "markdown",
   "id": "a0e2defa",
   "metadata": {},
   "source": [
    "## 3.1. Dic 포맷을 JSON 으로 변경"
   ]
  },
  {
   "cell_type": "code",
   "execution_count": 11,
   "id": "af1b2e70",
   "metadata": {},
   "outputs": [
    {
     "data": {
      "text/plain": [
       "{'pipeline': {'name': 'sagemaker-OnlyTraining-p-ks5pkeukq23i-modelbuild-nb',\n",
       "  'roleArn': 'arn:aws:iam::057716757052:role/code-pipeline-gsmoon',\n",
       "  'artifactStore': {'type': 'S3',\n",
       "   'location': 'sagemaker-us-east-1-057716757052'},\n",
       "  'stages': [{'name': 'Source',\n",
       "    'actions': [{'name': 'Source',\n",
       "      'actionTypeId': {'category': 'Source',\n",
       "       'owner': 'AWS',\n",
       "       'provider': 'CodeCommit',\n",
       "       'version': '1'},\n",
       "      'runOrder': 1,\n",
       "      'configuration': {'BranchName': 'master',\n",
       "       'OutputArtifactFormat': 'CODE_ZIP',\n",
       "       'PollForSourceChanges': 'false',\n",
       "       'RepositoryName': 'mlops-nb'},\n",
       "      'outputArtifacts': [{'name': 'SourceArtifact'}],\n",
       "      'inputArtifacts': [],\n",
       "      'region': 'us-east-1',\n",
       "      'namespace': 'SourceVariables'}]},\n",
       "   {'name': 'Build',\n",
       "    'actions': [{'name': 'BuildAndExecuteSageMakerPipeline',\n",
       "      'actionTypeId': {'category': 'Build',\n",
       "       'owner': 'AWS',\n",
       "       'provider': 'CodeBuild',\n",
       "       'version': '1'},\n",
       "      'runOrder': 1,\n",
       "      'configuration': {'ProjectName': 'iris-build-project-nb'},\n",
       "      'outputArtifacts': [{'name': 'BuildArtifact'}],\n",
       "      'inputArtifacts': [{'name': 'SourceArtifact'}],\n",
       "      'region': 'us-east-1',\n",
       "      'namespace': 'BuildVariables'}]}],\n",
       "  'version': 1}}"
      ]
     },
     "execution_count": 11,
     "metadata": {},
     "output_type": "execute_result"
    }
   ],
   "source": [
    "import json\n",
    "\n",
    "pipeline_json = json.dumps(pipeline_dic)\n",
    "json.loads(pipeline_json)"
   ]
  },
  {
   "cell_type": "markdown",
   "id": "a3907ca6",
   "metadata": {},
   "source": [
    "## 3.2. JSON 파일 저장"
   ]
  },
  {
   "cell_type": "code",
   "execution_count": 12,
   "id": "55f1bdc8",
   "metadata": {},
   "outputs": [],
   "source": [
    "json_file_path = 'src/hello_pipeline.json'\n",
    "with open(json_file_path, \"w\") as outfile:\n",
    "    outfile.write(pipeline_json)"
   ]
  },
  {
   "cell_type": "code",
   "execution_count": 13,
   "id": "80d02732",
   "metadata": {},
   "outputs": [
    {
     "data": {
      "text/plain": [
       "{'pipeline': {'name': 'sagemaker-OnlyTraining-p-ks5pkeukq23i-modelbuild-nb',\n",
       "  'roleArn': 'arn:aws:iam::057716757052:role/code-pipeline-gsmoon',\n",
       "  'artifactStore': {'type': 'S3',\n",
       "   'location': 'sagemaker-us-east-1-057716757052'},\n",
       "  'stages': [{'name': 'Source',\n",
       "    'actions': [{'name': 'Source',\n",
       "      'actionTypeId': {'category': 'Source',\n",
       "       'owner': 'AWS',\n",
       "       'provider': 'CodeCommit',\n",
       "       'version': '1'},\n",
       "      'runOrder': 1,\n",
       "      'configuration': {'BranchName': 'master',\n",
       "       'OutputArtifactFormat': 'CODE_ZIP',\n",
       "       'PollForSourceChanges': 'false',\n",
       "       'RepositoryName': 'mlops-nb'},\n",
       "      'outputArtifacts': [{'name': 'SourceArtifact'}],\n",
       "      'inputArtifacts': [],\n",
       "      'region': 'us-east-1',\n",
       "      'namespace': 'SourceVariables'}]},\n",
       "   {'name': 'Build',\n",
       "    'actions': [{'name': 'BuildAndExecuteSageMakerPipeline',\n",
       "      'actionTypeId': {'category': 'Build',\n",
       "       'owner': 'AWS',\n",
       "       'provider': 'CodeBuild',\n",
       "       'version': '1'},\n",
       "      'runOrder': 1,\n",
       "      'configuration': {'ProjectName': 'iris-build-project-nb'},\n",
       "      'outputArtifacts': [{'name': 'BuildArtifact'}],\n",
       "      'inputArtifacts': [{'name': 'SourceArtifact'}],\n",
       "      'region': 'us-east-1',\n",
       "      'namespace': 'BuildVariables'}]}],\n",
       "  'version': 1}}"
      ]
     },
     "execution_count": 13,
     "metadata": {},
     "output_type": "execute_result"
    }
   ],
   "source": [
    "with open(json_file_path) as json_file:\n",
    "    json_data = json.load(json_file)\n",
    "    \n",
    "json_data    "
   ]
  },
  {
   "cell_type": "markdown",
   "id": "03d23f78",
   "metadata": {},
   "source": [
    "# 4. 파이프라인 실행"
   ]
  },
  {
   "cell_type": "code",
   "execution_count": 14,
   "id": "dc9326a6",
   "metadata": {},
   "outputs": [
    {
     "name": "stdout",
     "output_type": "stream",
     "text": [
      "src/hello_pipeline.json\n",
      "/home/ec2-user/SageMaker/Neural-Collaborative-Filtering-On-SageMaker/3_MLOps/2_Hello-CodePipeline\n",
      "{\n",
      "    \"pipeline\": {\n",
      "        \"name\": \"sagemaker-OnlyTraining-p-ks5pkeukq23i-modelbuild-nb\",\n",
      "        \"roleArn\": \"arn:aws:iam::057716757052:role/code-pipeline-gsmoon\",\n",
      "        \"artifactStore\": {\n",
      "            \"type\": \"S3\",\n",
      "            \"location\": \"sagemaker-us-east-1-057716757052\"\n",
      "        },\n",
      "        \"stages\": [\n",
      "            {\n",
      "                \"name\": \"Source\",\n",
      "                \"actions\": [\n",
      "                    {\n",
      "                        \"name\": \"Source\",\n",
      "                        \"actionTypeId\": {\n",
      "                            \"category\": \"Source\",\n",
      "                            \"owner\": \"AWS\",\n",
      "                            \"provider\": \"CodeCommit\",\n",
      "                            \"version\": \"1\"\n",
      "                        },\n",
      "                        \"runOrder\": 1,\n",
      "                        \"configuration\": {\n",
      "                            \"BranchName\": \"master\",\n",
      "                            \"OutputArtifactFormat\": \"CODE_ZIP\",\n",
      "                            \"PollForSourceChanges\": \"false\",\n",
      "                            \"RepositoryName\": \"mlops-nb\"\n",
      "                        },\n",
      "                        \"outputArtifacts\": [\n",
      "                            {\n",
      "                                \"name\": \"SourceArtifact\"\n",
      "                            }\n",
      "                        ],\n",
      "                        \"inputArtifacts\": [],\n",
      "                        \"region\": \"us-east-1\",\n",
      "                        \"namespace\": \"SourceVariables\"\n",
      "                    }\n",
      "                ]\n",
      "            },\n",
      "            {\n",
      "                \"name\": \"Build\",\n",
      "                \"actions\": [\n",
      "                    {\n",
      "                        \"name\": \"BuildAndExecuteSageMakerPipeline\",\n",
      "                        \"actionTypeId\": {\n",
      "                            \"category\": \"Build\",\n",
      "                            \"owner\": \"AWS\",\n",
      "                            \"provider\": \"CodeBuild\",\n",
      "                            \"version\": \"1\"\n",
      "                        },\n",
      "                        \"runOrder\": 1,\n",
      "                        \"configuration\": {\n",
      "                            \"ProjectName\": \"iris-build-project-nb\"\n",
      "                        },\n",
      "                        \"outputArtifacts\": [\n",
      "                            {\n",
      "                                \"name\": \"BuildArtifact\"\n",
      "                            }\n",
      "                        ],\n",
      "                        \"inputArtifacts\": [\n",
      "                            {\n",
      "                                \"name\": \"SourceArtifact\"\n",
      "                            }\n",
      "                        ],\n",
      "                        \"region\": \"us-east-1\",\n",
      "                        \"namespace\": \"BuildVariables\"\n",
      "                    }\n",
      "                ]\n",
      "            }\n",
      "        ],\n",
      "        \"version\": 1\n",
      "    }\n",
      "}\n"
     ]
    }
   ],
   "source": [
    "%%sh -s {json_file_path}\n",
    "json_file_path=$1\n",
    "echo $json_file_path\n",
    "echo $PWD\n",
    "aws codepipeline create-pipeline --cli-input-json file://$json_file_path\n",
    "# aws codepipeline create-pipeline --cli-input-json file://src/hello_pipeline.json"
   ]
  },
  {
   "cell_type": "markdown",
   "id": "194cabcb",
   "metadata": {},
   "source": [
    "# 5. 파이프라인 실행 상태 확인"
   ]
  },
  {
   "cell_type": "code",
   "execution_count": 15,
   "id": "f99b8c47",
   "metadata": {},
   "outputs": [
    {
     "name": "stdout",
     "output_type": "stream",
     "text": [
      "sagemaker-OnlyTraining-p-ks5pkeukq23i-modelbuild-nb\n",
      "{\n",
      "    \"pipelineName\": \"sagemaker-OnlyTraining-p-ks5pkeukq23i-modelbuild-nb\",\n",
      "    \"pipelineVersion\": 1,\n",
      "    \"stageStates\": [\n",
      "        {\n",
      "            \"stageName\": \"Source\",\n",
      "            \"inboundTransitionState\": {\n",
      "                \"enabled\": true\n",
      "            },\n",
      "            \"actionStates\": [\n",
      "                {\n",
      "                    \"actionName\": \"Source\",\n",
      "                    \"latestExecution\": {\n",
      "                        \"actionExecutionId\": \"bc0ee2e6-9a5e-4a8d-911d-f18a5cff466e\",\n",
      "                        \"status\": \"InProgress\",\n",
      "                        \"lastStatusChange\": 1657281042.285\n",
      "                    },\n",
      "                    \"entityUrl\": \"https://console.aws.amazon.com/codecommit/home?region=us-east-1#/repository/mlops-nb/browse/master/--/\"\n",
      "                }\n",
      "            ],\n",
      "            \"latestExecution\": {\n",
      "                \"pipelineExecutionId\": \"4b148677-b211-4236-9726-0d518f5d07ae\",\n",
      "                \"status\": \"InProgress\"\n",
      "            }\n",
      "        },\n",
      "        {\n",
      "            \"stageName\": \"Build\",\n",
      "            \"inboundTransitionState\": {\n",
      "                \"enabled\": true\n",
      "            },\n",
      "            \"actionStates\": [\n",
      "                {\n",
      "                    \"actionName\": \"BuildAndExecuteSageMakerPipeline\",\n",
      "                    \"entityUrl\": \"https://console.aws.amazon.com/codebuild/home?region=us-east-1#/projects/iris-build-project-nb/view\"\n",
      "                }\n",
      "            ]\n",
      "        }\n",
      "    ],\n",
      "    \"created\": 1657281041.487,\n",
      "    \"updated\": 1657281041.487\n",
      "}\n"
     ]
    }
   ],
   "source": [
    "%%sh -s {pipeline_name}\n",
    "pipeline_name=$1\n",
    "echo $pipeline_name\n",
    "aws codepipeline get-pipeline-state --name $pipeline_name"
   ]
  },
  {
   "cell_type": "code",
   "execution_count": 16,
   "id": "7708e315",
   "metadata": {},
   "outputs": [
    {
     "name": "stdout",
     "output_type": "stream",
     "text": [
      "Stored 'pipeline_name' (str)\n"
     ]
    }
   ],
   "source": [
    "%store pipeline_name"
   ]
  },
  {
   "cell_type": "code",
   "execution_count": null,
   "id": "37336154",
   "metadata": {},
   "outputs": [],
   "source": []
  }
 ],
 "metadata": {
  "kernelspec": {
   "display_name": "conda_python3",
   "language": "python",
   "name": "conda_python3"
  },
  "language_info": {
   "codemirror_mode": {
    "name": "ipython",
    "version": 3
   },
   "file_extension": ".py",
   "mimetype": "text/x-python",
   "name": "python",
   "nbconvert_exporter": "python",
   "pygments_lexer": "ipython3",
   "version": "3.8.12"
  }
 },
 "nbformat": 4,
 "nbformat_minor": 5
}
