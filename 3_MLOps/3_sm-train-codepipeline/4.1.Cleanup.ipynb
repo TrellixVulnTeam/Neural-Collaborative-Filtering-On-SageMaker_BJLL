{
 "cells": [
  {
   "cell_type": "markdown",
   "id": "bb8426f7",
   "metadata": {},
   "source": [
    "# 리소스 클린업"
   ]
  },
  {
   "cell_type": "markdown",
   "id": "590b4e52",
   "metadata": {},
   "source": [
    "# 1. 환경 설정"
   ]
  },
  {
   "cell_type": "code",
   "execution_count": 1,
   "id": "c2930d13",
   "metadata": {},
   "outputs": [],
   "source": [
    "%store -r repository_name\n",
    "%store -r code_build_project_name\n",
    "%store -r sm_pipeline_name\n",
    "%store -r code_pipeline_name\n",
    "%store -r bucket"
   ]
  },
  {
   "cell_type": "markdown",
   "id": "5050e16f",
   "metadata": {},
   "source": [
    "# 2. 코드 리파지토리 삭제"
   ]
  },
  {
   "cell_type": "code",
   "execution_count": 2,
   "id": "76493100",
   "metadata": {},
   "outputs": [
    {
     "name": "stdout",
     "output_type": "stream",
     "text": [
      "{\n",
      "    \"repositoryId\": \"aba40d31-1cdb-48bb-9829-81c699f969eb\"\n",
      "}\n"
     ]
    }
   ],
   "source": [
    "%%sh -s {repository_name}\n",
    "repository_name=$1\n",
    "aws codecommit delete-repository --repository-name $repository_name \n"
   ]
  },
  {
   "cell_type": "markdown",
   "id": "fd8b4f00",
   "metadata": {},
   "source": [
    "# 3. 코드 빌드 프로젝트 삭제"
   ]
  },
  {
   "cell_type": "code",
   "execution_count": 3,
   "id": "cb31b8d6",
   "metadata": {},
   "outputs": [],
   "source": [
    "%%sh -s {code_build_project_name}\n",
    "code_build_project_name=$1\n",
    "aws codebuild delete-project --name $code_build_project_name"
   ]
  },
  {
   "cell_type": "markdown",
   "id": "39df0fc7",
   "metadata": {},
   "source": [
    "# 4. 코드 파이프라인 삭제"
   ]
  },
  {
   "cell_type": "code",
   "execution_count": 4,
   "id": "54413171",
   "metadata": {},
   "outputs": [],
   "source": [
    "%%sh -s {code_pipeline_name}\n",
    "pipeline_name=$1\n",
    "aws codepipeline delete-pipeline --name $pipeline_name"
   ]
  },
  {
   "cell_type": "markdown",
   "id": "bb961fd9-bbeb-4d66-8363-23ddaeb7c254",
   "metadata": {},
   "source": [
    "# 5. SageMaker Model Building Pipeline 삭제\n",
    "\n",
    "\n"
   ]
  },
  {
   "cell_type": "markdown",
   "id": "a10d059f-1a9c-46ce-a664-2970738adb11",
   "metadata": {},
   "source": [
    "## 5.1 파이프라인 삭제"
   ]
  },
  {
   "cell_type": "markdown",
   "id": "7bb5748a-cad4-4114-9d43-22d707f4b6d4",
   "metadata": {},
   "source": [
    "- 파이프라인 이름 검색\n",
    "\n",
    "sm_pipeline_name 의 변수 이름으로 시작되는 파이프라인 정보 검색"
   ]
  },
  {
   "cell_type": "code",
   "execution_count": 5,
   "id": "91141af4-be85-48f1-8ca2-140a712d995b",
   "metadata": {},
   "outputs": [
    {
     "data": {
      "text/plain": [
       "{'PipelineSummaries': [{'PipelineArn': 'arn:aws:sagemaker:us-east-1:057716757052:pipeline/ncf-sm-pipeline',\n",
       "   'PipelineName': 'ncf-sm-pipeline',\n",
       "   'PipelineDisplayName': 'ncf-sm-pipeline',\n",
       "   'RoleArn': 'arn:aws:iam::057716757052:role/codebuild-gsmoon',\n",
       "   'CreationTime': datetime.datetime(2022, 7, 8, 12, 23, 50, 696000, tzinfo=tzlocal()),\n",
       "   'LastModifiedTime': datetime.datetime(2022, 7, 8, 12, 35, 53, 790000, tzinfo=tzlocal())}],\n",
       " 'ResponseMetadata': {'RequestId': 'dae9c56a-49ad-4701-80f3-8ad36d428de2',\n",
       "  'HTTPStatusCode': 200,\n",
       "  'HTTPHeaders': {'x-amzn-requestid': 'dae9c56a-49ad-4701-80f3-8ad36d428de2',\n",
       "   'content-type': 'application/x-amz-json-1.1',\n",
       "   'content-length': '307',\n",
       "   'date': 'Fri, 08 Jul 2022 12:52:21 GMT'},\n",
       "  'RetryAttempts': 0}}"
      ]
     },
     "execution_count": 5,
     "metadata": {},
     "output_type": "execute_result"
    }
   ],
   "source": [
    "import boto3\n",
    "\n",
    "client = boto3.client('sagemaker')\n",
    "\n",
    "response = client.list_pipelines(\n",
    "    PipelineNamePrefix= sm_pipeline_name,\n",
    "    SortBy='Name',\n",
    "    SortOrder='Descending',\n",
    "    MaxResults=1\n",
    ")\n",
    "\n",
    "response"
   ]
  },
  {
   "cell_type": "code",
   "execution_count": 6,
   "id": "afe1212b-e609-4bd4-95ff-6d640bf35388",
   "metadata": {},
   "outputs": [
    {
     "data": {
      "text/plain": [
       "{'PipelineArn': 'arn:aws:sagemaker:us-east-1:057716757052:pipeline/ncf-sm-pipeline',\n",
       " 'ResponseMetadata': {'RequestId': 'c20ed1b6-284b-4b10-b35e-2fd0aa12c226',\n",
       "  'HTTPStatusCode': 200,\n",
       "  'HTTPHeaders': {'x-amzn-requestid': 'c20ed1b6-284b-4b10-b35e-2fd0aa12c226',\n",
       "   'content-type': 'application/x-amz-json-1.1',\n",
       "   'content-length': '83',\n",
       "   'date': 'Fri, 08 Jul 2022 12:52:21 GMT'},\n",
       "  'RetryAttempts': 0}}"
      ]
     },
     "execution_count": 6,
     "metadata": {},
     "output_type": "execute_result"
    }
   ],
   "source": [
    "response = client.delete_pipeline(\n",
    "    PipelineName=sm_pipeline_name,\n",
    ")\n",
    "response"
   ]
  },
  {
   "cell_type": "markdown",
   "id": "d5c233ea-fe60-4c7d-a967-d5d296159e16",
   "metadata": {},
   "source": [
    "## 5.2. 파이프라인 관련 S3 내 파일 삭제"
   ]
  },
  {
   "cell_type": "code",
   "execution_count": 7,
   "id": "eda3f829-968e-42a4-b297-e606f74d8892",
   "metadata": {},
   "outputs": [],
   "source": [
    "# ! aws s3 ls {bucket}/{sm_pipeline_name} --recursive\n",
    "! aws s3 rm s3://{bucket}/{sm_pipeline_name} --recursive"
   ]
  },
  {
   "cell_type": "markdown",
   "id": "68240f1d-4334-4bcc-885f-024a4e926f74",
   "metadata": {},
   "source": [
    "# 6. 모델 레지스트리 삭제\n",
    "\n",
    "- 자세한 것은 개발자 가이드 참고 하세요. [Boto3 SageMaker](https://boto3.amazonaws.com/v1/documentation/api/latest/reference/services/sagemaker.html#SageMaker.Client.delete_model_package)"
   ]
  },
  {
   "cell_type": "markdown",
   "id": "3c98b6bb-b634-4a7c-9353-fe5f350f22e4",
   "metadata": {},
   "source": [
    "## 6.1. 전체 model package group 검색\n",
    "- NameContains 의 이름 있는 것만 검색"
   ]
  },
  {
   "cell_type": "code",
   "execution_count": 8,
   "id": "c7448971-26c3-4bdc-811d-e3755edd46f0",
   "metadata": {},
   "outputs": [
    {
     "data": {
      "text/plain": [
       "{'ModelPackageGroupSummaryList': [],\n",
       " 'NextToken': 'cIws2QhTXUIa8bi8XY6Q7JUM+leXzY+WUYv213SjXJg6fOXnrUzo74zCATuP2us05VS7xlmHZoFNMQIKzAy/+cwXW0dvNpjXuCsswXlIVdlWe5c1IaKt/FsGFwKJog1DXbQyE28kboi77xb3z8o3hY5I7Pgdh93ZHHCIrIqyv1aAFi3G45swZdoRqXF5ZYcZPa+lM8JhEyweI8lLRTD6DSnGvwsT9J3w0VePy2QoR6hCNAlKMKYQ+LXF6dJ54ybTeOT7BPpGA/s3DDVdUoMOoeDYdZ+g/BUi24YupoD7hTzcgSEElWucWt4UoNmOPt8+QYJk0JwkHyx2VD5+JQ5aApEHXMOMgD/d6u03ahDZ/bLVBFNGw0Rswoe4TcVacUMQLBcTUa33cq162yN26XhLzog02bBsktzDfv4CGI/Gz+LP2mJJdiX9tr40VajWYEYmC0VS3y/AVTAzlN+FAiXvFkO3M35LFGrkz8AeEAY4OQrDcU8y0+566mPq/OxBVVX7/05sxKmsuPFaBh7K8NnkP8mhD/YW4nuyRcktTQEOinNcWK6h1YotNNXLASjAbYgNL0jlhmiBh+gWtBmnRA==',\n",
       " 'ResponseMetadata': {'RequestId': '8f14e831-1b58-43ce-87a6-22e34f152fd7',\n",
       "  'HTTPStatusCode': 200,\n",
       "  'HTTPHeaders': {'x-amzn-requestid': '8f14e831-1b58-43ce-87a6-22e34f152fd7',\n",
       "   'content-type': 'application/x-amz-json-1.1',\n",
       "   'content-length': '646',\n",
       "   'date': 'Fri, 08 Jul 2022 12:52:21 GMT'},\n",
       "  'RetryAttempts': 0}}"
      ]
     },
     "execution_count": 8,
     "metadata": {},
     "output_type": "execute_result"
    }
   ],
   "source": [
    "response = client.list_model_package_groups(\n",
    "    NameContains = 'mimick',\n",
    "    SortBy='CreationTime',\n",
    "    SortOrder='Ascending'\n",
    ")\n",
    "response"
   ]
  },
  {
   "cell_type": "markdown",
   "id": "0fc82d01-e24a-46b0-b7c8-f806094bcfb4",
   "metadata": {},
   "source": [
    "## 6.2. 기술된 model package group 안애서 등록된 model package 만 검색"
   ]
  },
  {
   "cell_type": "code",
   "execution_count": 9,
   "id": "40de9e45-faa1-4b39-afe2-f58fe2fe42ef",
   "metadata": {},
   "outputs": [],
   "source": [
    "model_package_group_name = sm_pipeline_name"
   ]
  },
  {
   "cell_type": "code",
   "execution_count": 10,
   "id": "885ff939-3c7c-446d-bf41-fa75a2d1a88d",
   "metadata": {},
   "outputs": [
    {
     "data": {
      "text/plain": [
       "{'ModelPackageSummaryList': [],\n",
       " 'ResponseMetadata': {'RequestId': '3a4771c5-c5cf-471d-b6df-cf5ef37ead34',\n",
       "  'HTTPStatusCode': 200,\n",
       "  'HTTPHeaders': {'x-amzn-requestid': '3a4771c5-c5cf-471d-b6df-cf5ef37ead34',\n",
       "   'content-type': 'application/x-amz-json-1.1',\n",
       "   'content-length': '30',\n",
       "   'date': 'Fri, 08 Jul 2022 12:52:22 GMT'},\n",
       "  'RetryAttempts': 0}}"
      ]
     },
     "execution_count": 10,
     "metadata": {},
     "output_type": "execute_result"
    }
   ],
   "source": [
    "response = client.list_model_packages(\n",
    "    ModelPackageGroupName=model_package_group_name , \n",
    "    SortBy='CreationTime',\n",
    "    SortOrder='Ascending'\n",
    ")\n",
    "response"
   ]
  },
  {
   "cell_type": "markdown",
   "id": "d79edb52-22a6-4672-9425-85ab94883730",
   "metadata": {},
   "source": [
    "## 6.3. model package 삭제"
   ]
  },
  {
   "cell_type": "code",
   "execution_count": 11,
   "id": "48f73f0b-02a3-478c-91ab-37336f472cab",
   "metadata": {},
   "outputs": [],
   "source": [
    "for e in response['ModelPackageSummaryList']:\n",
    "    print(e)\n",
    "    ModelPackageArn = e['ModelPackageArn']\n",
    "    print(f\"########## Delete: {ModelPackageArn}\")\n",
    "    response = client.delete_model_package(\n",
    "        ModelPackageName=ModelPackageArn\n",
    "    )    \n",
    "    print(response)"
   ]
  },
  {
   "cell_type": "markdown",
   "id": "bd205f67-3f74-48f0-8d47-df9e106a25d5",
   "metadata": {},
   "source": [
    "## 6.4. 기술된 model package group 삭제"
   ]
  },
  {
   "cell_type": "code",
   "execution_count": 12,
   "id": "d3b91427-4c76-4614-bbed-3ffd687c67f8",
   "metadata": {},
   "outputs": [
    {
     "ename": "ClientError",
     "evalue": "An error occurred (ValidationException) when calling the DeleteModelPackageGroup operation: ModelPackageGroup arn:aws:sagemaker:us-east-1:057716757052:model-package-group/ncf-sm-pipeline does not exist.",
     "output_type": "error",
     "traceback": [
      "\u001b[0;31m---------------------------------------------------------------------------\u001b[0m",
      "\u001b[0;31mClientError\u001b[0m                               Traceback (most recent call last)",
      "\u001b[0;32m/tmp/ipykernel_6515/524322462.py\u001b[0m in \u001b[0;36m<cell line: 1>\u001b[0;34m()\u001b[0m\n\u001b[0;32m----> 1\u001b[0;31m response = client.delete_model_package_group(\n\u001b[0m\u001b[1;32m      2\u001b[0m     \u001b[0mModelPackageGroupName\u001b[0m\u001b[0;34m=\u001b[0m \u001b[0mmodel_package_group_name\u001b[0m\u001b[0;34m\u001b[0m\u001b[0;34m\u001b[0m\u001b[0m\n\u001b[1;32m      3\u001b[0m )\n\u001b[1;32m      4\u001b[0m \u001b[0mresponse\u001b[0m\u001b[0;34m\u001b[0m\u001b[0;34m\u001b[0m\u001b[0m\n",
      "\u001b[0;32m~/anaconda3/envs/python3/lib/python3.8/site-packages/botocore/client.py\u001b[0m in \u001b[0;36m_api_call\u001b[0;34m(self, *args, **kwargs)\u001b[0m\n\u001b[1;32m    506\u001b[0m                 )\n\u001b[1;32m    507\u001b[0m             \u001b[0;31m# The \"self\" in this scope is referring to the BaseClient.\u001b[0m\u001b[0;34m\u001b[0m\u001b[0;34m\u001b[0m\u001b[0;34m\u001b[0m\u001b[0m\n\u001b[0;32m--> 508\u001b[0;31m             \u001b[0;32mreturn\u001b[0m \u001b[0mself\u001b[0m\u001b[0;34m.\u001b[0m\u001b[0m_make_api_call\u001b[0m\u001b[0;34m(\u001b[0m\u001b[0moperation_name\u001b[0m\u001b[0;34m,\u001b[0m \u001b[0mkwargs\u001b[0m\u001b[0;34m)\u001b[0m\u001b[0;34m\u001b[0m\u001b[0;34m\u001b[0m\u001b[0m\n\u001b[0m\u001b[1;32m    509\u001b[0m \u001b[0;34m\u001b[0m\u001b[0m\n\u001b[1;32m    510\u001b[0m         \u001b[0m_api_call\u001b[0m\u001b[0;34m.\u001b[0m\u001b[0m__name__\u001b[0m \u001b[0;34m=\u001b[0m \u001b[0mstr\u001b[0m\u001b[0;34m(\u001b[0m\u001b[0mpy_operation_name\u001b[0m\u001b[0;34m)\u001b[0m\u001b[0;34m\u001b[0m\u001b[0;34m\u001b[0m\u001b[0m\n",
      "\u001b[0;32m~/anaconda3/envs/python3/lib/python3.8/site-packages/botocore/client.py\u001b[0m in \u001b[0;36m_make_api_call\u001b[0;34m(self, operation_name, api_params)\u001b[0m\n\u001b[1;32m    909\u001b[0m             \u001b[0merror_code\u001b[0m \u001b[0;34m=\u001b[0m \u001b[0mparsed_response\u001b[0m\u001b[0;34m.\u001b[0m\u001b[0mget\u001b[0m\u001b[0;34m(\u001b[0m\u001b[0;34m\"Error\"\u001b[0m\u001b[0;34m,\u001b[0m \u001b[0;34m{\u001b[0m\u001b[0;34m}\u001b[0m\u001b[0;34m)\u001b[0m\u001b[0;34m.\u001b[0m\u001b[0mget\u001b[0m\u001b[0;34m(\u001b[0m\u001b[0;34m\"Code\"\u001b[0m\u001b[0;34m)\u001b[0m\u001b[0;34m\u001b[0m\u001b[0;34m\u001b[0m\u001b[0m\n\u001b[1;32m    910\u001b[0m             \u001b[0merror_class\u001b[0m \u001b[0;34m=\u001b[0m \u001b[0mself\u001b[0m\u001b[0;34m.\u001b[0m\u001b[0mexceptions\u001b[0m\u001b[0;34m.\u001b[0m\u001b[0mfrom_code\u001b[0m\u001b[0;34m(\u001b[0m\u001b[0merror_code\u001b[0m\u001b[0;34m)\u001b[0m\u001b[0;34m\u001b[0m\u001b[0;34m\u001b[0m\u001b[0m\n\u001b[0;32m--> 911\u001b[0;31m             \u001b[0;32mraise\u001b[0m \u001b[0merror_class\u001b[0m\u001b[0;34m(\u001b[0m\u001b[0mparsed_response\u001b[0m\u001b[0;34m,\u001b[0m \u001b[0moperation_name\u001b[0m\u001b[0;34m)\u001b[0m\u001b[0;34m\u001b[0m\u001b[0;34m\u001b[0m\u001b[0m\n\u001b[0m\u001b[1;32m    912\u001b[0m         \u001b[0;32melse\u001b[0m\u001b[0;34m:\u001b[0m\u001b[0;34m\u001b[0m\u001b[0;34m\u001b[0m\u001b[0m\n\u001b[1;32m    913\u001b[0m             \u001b[0;32mreturn\u001b[0m \u001b[0mparsed_response\u001b[0m\u001b[0;34m\u001b[0m\u001b[0;34m\u001b[0m\u001b[0m\n",
      "\u001b[0;31mClientError\u001b[0m: An error occurred (ValidationException) when calling the DeleteModelPackageGroup operation: ModelPackageGroup arn:aws:sagemaker:us-east-1:057716757052:model-package-group/ncf-sm-pipeline does not exist."
     ]
    }
   ],
   "source": [
    "response = client.delete_model_package_group(\n",
    "    ModelPackageGroupName= model_package_group_name\n",
    ")\n",
    "response"
   ]
  },
  {
   "cell_type": "code",
   "execution_count": null,
   "id": "ef0edcdc-0a9c-4690-b2c3-9cf4c647be62",
   "metadata": {},
   "outputs": [],
   "source": []
  }
 ],
 "metadata": {
  "kernelspec": {
   "display_name": "conda_python3",
   "language": "python",
   "name": "conda_python3"
  },
  "language_info": {
   "codemirror_mode": {
    "name": "ipython",
    "version": 3
   },
   "file_extension": ".py",
   "mimetype": "text/x-python",
   "name": "python",
   "nbconvert_exporter": "python",
   "pygments_lexer": "ipython3",
   "version": "3.8.12"
  }
 },
 "nbformat": 4,
 "nbformat_minor": 5
}
