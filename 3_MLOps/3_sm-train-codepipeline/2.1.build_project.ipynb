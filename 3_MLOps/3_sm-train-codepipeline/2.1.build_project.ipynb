{
 "cells": [
  {
   "cell_type": "markdown",
   "id": "6814697a",
   "metadata": {
    "tags": []
   },
   "source": [
    "# [모듈 2.1] CodeBuild 프로젝트 생성"
   ]
  },
  {
   "cell_type": "markdown",
   "id": "d2fc94a4",
   "metadata": {},
   "source": [
    "- 개발자 가이드\n",
    "    - [Create a build project (AWS CLI)](https://docs.aws.amazon.com/codebuild/latest/userguide/create-project-cli.html)\n",
    "    \n",
    "\n",
    "aws codebuild list-projects --sort-by NAME --sort-order ASCENDING    \n",
    "aws codebuild batch-get-projects --names iris-build-project    "
   ]
  },
  {
   "cell_type": "markdown",
   "id": "610dce12",
   "metadata": {},
   "source": [
    "- 개발자 가이드\n",
    "    - [Create a build project (AWS CLI)](https://docs.aws.amazon.com/codebuild/latest/userguide/create-project-cli.html)\n",
    "    \n",
    "\n",
    "aws codebuild list-projects --sort-by NAME --sort-order ASCENDING    \n",
    "aws codebuild batch-get-projects --names iris-build-project    "
   ]
  },
  {
   "cell_type": "markdown",
   "id": "84a0d536",
   "metadata": {},
   "source": [
    "# 1. 환경 설정"
   ]
  },
  {
   "cell_type": "markdown",
   "id": "c0b62221",
   "metadata": {},
   "source": [
    "## 1.0 기존의 변수 불러오기"
   ]
  },
  {
   "cell_type": "code",
   "execution_count": null,
   "id": "b5c43a14",
   "metadata": {},
   "outputs": [],
   "source": [
    "%store -r repository_name\n",
    "%store -r s3_input_data_uri"
   ]
  },
  {
   "cell_type": "markdown",
   "id": "0043d4e9",
   "metadata": {},
   "source": [
    "## 1.1. 파라미터 설정"
   ]
  },
  {
   "cell_type": "code",
   "execution_count": null,
   "id": "e8b6314f",
   "metadata": {},
   "outputs": [],
   "source": [
    "import sagemaker\n",
    "import boto3\n",
    "\n",
    "region = sagemaker.Session().boto_region_name\n",
    "\n",
    "account_id = boto3.client('sts').get_caller_identity().get('Account')\n",
    "\n",
    "\n",
    "print(\"region: \", region)\n",
    "print(\"account_id: \", account_id)"
   ]
  },
  {
   "cell_type": "code",
   "execution_count": null,
   "id": "22f91615",
   "metadata": {},
   "outputs": [],
   "source": [
    "isDefaultBucket = True\n",
    "\n",
    "if isDefaultBucket:\n",
    "\n",
    "    bucket = sagemaker.Session().default_bucket()\n",
    "else:\n",
    "    bucket = \"<Type your bucket name>\"\n",
    "    \n",
    "print(\"Bucket: \", bucket)    \n"
   ]
  },
  {
   "cell_type": "markdown",
   "id": "5ea979bc",
   "metadata": {},
   "source": [
    "## 1.2. 역할 생성 및 정의\n",
    "### 아래 Code Build 역할 ARN 을 넣어 주세요\n",
    "- build_service_role: 은 아래와 미리 생성이 됨\n",
    "    -  \"arn:aws:iam::XXXXXX:role/codebuild-gsmoon\""
   ]
  },
  {
   "cell_type": "code",
   "execution_count": null,
   "id": "b4df0d02",
   "metadata": {},
   "outputs": [],
   "source": [
    "code_build_project_name = \"ncf-training-sm-pipeline\"\n",
    "build_service_role = \"arn:aws:iam::XXXXXX:role/codebuild-gsmoon\"\n",
    "sm_pipeline_name = \"ncf-sm-pipeline\""
   ]
  },
  {
   "cell_type": "markdown",
   "id": "a68d5a30",
   "metadata": {
    "tags": []
   },
   "source": [
    "# 2. 빌드 프로젝트  JSON 정의\n",
    "- "
   ]
  },
  {
   "cell_type": "code",
   "execution_count": null,
   "id": "18af1a8c",
   "metadata": {},
   "outputs": [],
   "source": [
    "build_dic = {\n",
    "  \"name\": code_build_project_name,\n",
    "  \"description\": \"Hello Build Project\",\n",
    "  \"source\": {\n",
    "    \"type\": \"CODEPIPELINE\",\n",
    "    \"buildspec\": \"codebuild-buildspec.yml\",\n",
    "  },\n",
    "  \"artifacts\": {\n",
    "    \"type\": \"CODEPIPELINE\",\n",
    "    \"name\": code_build_project_name,\n",
    "  },\n",
    "  \"cache\": {\n",
    "    \"type\": \"NO_CACHE\",\n",
    "  },\n",
    "  \"environment\": {\n",
    "            \"type\": \"LINUX_CONTAINER\",\n",
    "            \"image\": \"aws/codebuild/amazonlinux2-x86_64-standard:3.0\",\n",
    "            \"computeType\": \"BUILD_GENERAL1_SMALL\",\n",
    "            \"environmentVariables\": [\n",
    "                {\n",
    "                    \"name\": \"IMAGE_REPO_NAME\",\n",
    "                    \"value\": \"iris-model\",\n",
    "                    \"type\": \"PLAINTEXT\"\n",
    "                },\n",
    "                {\n",
    "                    \"name\": \"IMAGE_TAG\",\n",
    "                    \"value\": \"latest\",\n",
    "                    \"type\": \"PLAINTEXT\"\n",
    "                },\n",
    "                {\n",
    "                    \"name\": \"AWS_ACCOUNT_ID\",\n",
    "                    \"value\": account_id,\n",
    "                    \"type\": \"PLAINTEXT\"\n",
    "                },\n",
    "                {\n",
    "                    \"name\": \"SAGEMAKER_PIPELINE_ROLE_ARN\",\n",
    "                    \"value\": build_service_role,\n",
    "                    \"type\": \"PLAINTEXT\"\n",
    "                },        \n",
    "                {\n",
    "                    \"name\": \"SAGEMAKER_PIPELINE_NAME\",\n",
    "                    \"value\": sm_pipeline_name,\n",
    "                    \"type\": \"PLAINTEXT\"\n",
    "                },                        \n",
    "                {\n",
    "                    \"name\": \"AWS_DEFAULT_REGION\",\n",
    "                    \"value\": region,\n",
    "                    \"type\": \"PLAINTEXT\"\n",
    "                },\n",
    "                {\n",
    "                    \"name\": \"TEMPLATE_BUCKET\",\n",
    "                    \"value\": bucket,\n",
    "                    \"type\": \"PLAINTEXT\"\n",
    "                },\n",
    "                {\n",
    "                    \"name\": \"s3_input_data_uri\",\n",
    "                    \"value\": \"s3://sagemaker-us-east-1-057716757052/NCFModel/data\",\n",
    "                    \"type\": \"PLAINTEXT\"\n",
    "                },\n",
    "                {\n",
    "                    \"name\": \"code_repository_name\",\n",
    "                    \"value\": repository_name,\n",
    "                    \"type\": \"PLAINTEXT\"\n",
    "                },                \n",
    "                {\n",
    "                    \"name\": \"project_prefix\",\n",
    "                    \"value\": \"NCFModel\",\n",
    "                    \"type\": \"PLAINTEXT\"\n",
    "                },\n",
    "                {\n",
    "                    \"name\": \"TEMPLATE_PREFIX\",\n",
    "                    \"value\": \"codebuild\",\n",
    "                    \"type\": \"PLAINTEXT\"\n",
    "                }\n",
    "                \n",
    "            ],\n",
    "            \"privilegedMode\": False,\n",
    "            \"imagePullCredentialsType\": \"CODEBUILD\"\n",
    "        },\n",
    "  \"serviceRole\": build_service_role,\n",
    "  \"timeoutInMinutes\": 60,\n",
    "  \"queuedTimeoutInMinutes\": 480,\n",
    "  \"badgeEnabled\": False,\n",
    "  \"logsConfig\": {\n",
    "    \"cloudWatchLogs\": {\n",
    "      \"status\": \"ENABLED\",\n",
    "    },\n",
    "    \"s3Logs\": {\n",
    "      \"status\": \"DISABLED\",\n",
    "      \"encryptionDisabled\": False\n",
    "    }\n",
    "  },\n",
    "}"
   ]
  },
  {
   "cell_type": "markdown",
   "id": "cc24ab36",
   "metadata": {},
   "source": [
    "## 2.1. Dic 포맷을 JSON 으로 변경"
   ]
  },
  {
   "cell_type": "code",
   "execution_count": null,
   "id": "4d1d712e",
   "metadata": {},
   "outputs": [],
   "source": [
    "import json\n",
    "\n",
    "build_json = json.dumps(build_dic)\n",
    "json.loads(build_json)"
   ]
  },
  {
   "cell_type": "markdown",
   "id": "7c30e9f9",
   "metadata": {},
   "source": [
    "## 2.2. JSON 파일 저장"
   ]
  },
  {
   "cell_type": "code",
   "execution_count": null,
   "id": "41b41c0e",
   "metadata": {},
   "outputs": [],
   "source": [
    "json_file_path = 'src/hello_build.json'\n",
    "with open(json_file_path, \"w\") as outfile:\n",
    "    outfile.write(build_json)"
   ]
  },
  {
   "cell_type": "code",
   "execution_count": null,
   "id": "8e705e6a",
   "metadata": {},
   "outputs": [],
   "source": [
    "with open(json_file_path) as json_file:\n",
    "    json_data = json.load(json_file)\n",
    "    \n",
    "json_data    "
   ]
  },
  {
   "cell_type": "markdown",
   "id": "bb0ebd9a",
   "metadata": {
    "tags": []
   },
   "source": [
    "# 3. 빌드 프로젝트 생성"
   ]
  },
  {
   "cell_type": "code",
   "execution_count": null,
   "id": "ab0eaf8f",
   "metadata": {},
   "outputs": [],
   "source": [
    "%%sh -s {json_file_path}\n",
    "json_file_path=$1\n",
    "echo $json_file_path\n",
    "aws codebuild create-project --cli-input-json file://$json_file_path"
   ]
  },
  {
   "cell_type": "markdown",
   "id": "38a99e75",
   "metadata": {},
   "source": [
    "# 4. 프로젝트 이름 저장"
   ]
  },
  {
   "cell_type": "code",
   "execution_count": null,
   "id": "64735bb8",
   "metadata": {},
   "outputs": [],
   "source": [
    "%store code_build_project_name\n",
    "%store sm_pipeline_name\n",
    "%store account_id\n",
    "%store region\n",
    "%store bucket\n"
   ]
  },
  {
   "cell_type": "code",
   "execution_count": null,
   "id": "55a69820",
   "metadata": {},
   "outputs": [],
   "source": []
  }
 ],
 "metadata": {
  "kernelspec": {
   "display_name": "conda_python3",
   "language": "python",
   "name": "conda_python3"
  },
  "language_info": {
   "codemirror_mode": {
    "name": "ipython",
    "version": 3
   },
   "file_extension": ".py",
   "mimetype": "text/x-python",
   "name": "python",
   "nbconvert_exporter": "python",
   "pygments_lexer": "ipython3",
   "version": "3.6.13"
  }
 },
 "nbformat": 4,
 "nbformat_minor": 5
}
