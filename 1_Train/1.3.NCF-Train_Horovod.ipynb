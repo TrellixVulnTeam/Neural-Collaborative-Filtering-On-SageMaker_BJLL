{
 "cells": [
  {
   "cell_type": "markdown",
   "metadata": {},
   "source": [
    "# [Module 1.3] Horovod 분산 훈련\n",
    "\n",
    "### 본 워크샵의 모든 노트북은 `conda_python3` 여기에서 작업 합니다.\n",
    "\n",
    "이 노트북은 아래와 같은 작업을 합니다.\n",
    "- 1. 환경 셋업\n",
    "- 2. 세이지 메이크 로컬 모드 훈련\n",
    "- 3. SageMaker Host Mode 로 훈련\n",
    "- 4. 모델 아티펙트 저장\n",
    "\n",
    "---\n",
    "\n",
    "### 참고\n",
    "- [Horovod Official Git](https://github.com/horovod/horovod)\n",
    "- [Horovod with PyTorch](https://horovod.readthedocs.io/en/stable/pytorch.html)\n",
    "- [Pytorch Horovod Example on SageMaker ](https://github.com/aws/amazon-sagemaker-examples/tree/main/sagemaker-python-sdk/pytorch_horovod_mnist)"
   ]
  },
  {
   "cell_type": "markdown",
   "metadata": {},
   "source": [
    "# 1. 환경 셋업"
   ]
  },
  {
   "cell_type": "markdown",
   "metadata": {},
   "source": [
    "## 기본 세팅\n",
    "사용하는 패키지는 import 시점에 다시 재로딩 합니다."
   ]
  },
  {
   "cell_type": "code",
   "execution_count": 28,
   "metadata": {},
   "outputs": [
    {
     "name": "stdout",
     "output_type": "stream",
     "text": [
      "The autoreload extension is already loaded. To reload it, use:\n",
      "  %reload_ext autoreload\n"
     ]
    }
   ],
   "source": [
    "%load_ext autoreload\n",
    "%autoreload 2\n",
    "\n",
    "import sys\n",
    "sys.path.append('./src')"
   ]
  },
  {
   "cell_type": "code",
   "execution_count": 29,
   "metadata": {},
   "outputs": [],
   "source": [
    "### 커스텀 라이브러리\n",
    "import config "
   ]
  },
  {
   "cell_type": "markdown",
   "metadata": {},
   "source": [
    "버킷 및 폴더(prefix) 설정"
   ]
  },
  {
   "cell_type": "code",
   "execution_count": 30,
   "metadata": {},
   "outputs": [],
   "source": [
    "import sagemaker\n",
    "\n",
    "sagemaker_session = sagemaker.Session()\n",
    "role = sagemaker.get_execution_role()\n",
    "\n",
    "use_default_bucket = True\n",
    "if use_default_bucket:\n",
    "    bucket = sagemaker_session.default_bucket()\n",
    "else:\n",
    "    bucket = '<Type your bucket>'\n",
    "    \n",
    "prefix = \"NCFModel\"\n",
    "\n"
   ]
  },
  {
   "cell_type": "markdown",
   "metadata": {},
   "source": [
    "# 2. 세이지 메이크 로컬 모드 훈련\n",
    "#### 로컬의 GPU, CPU 여부로 instance_type 결정"
   ]
  },
  {
   "cell_type": "code",
   "execution_count": 31,
   "metadata": {},
   "outputs": [
    {
     "name": "stdout",
     "output_type": "stream",
     "text": [
      "Instance type = local_gpu\n"
     ]
    }
   ],
   "source": [
    "import os\n",
    "import subprocess\n",
    "\n",
    "\n",
    "try:\n",
    "    if subprocess.call(\"nvidia-smi\") == 0:\n",
    "        ## Set type to GPU if one is present\n",
    "        instance_type = \"local_gpu\"\n",
    "    else:\n",
    "        instance_type = \"local\"        \n",
    "except:\n",
    "    pass\n",
    "\n",
    "print(\"Instance type = \" + instance_type)"
   ]
  },
  {
   "cell_type": "markdown",
   "metadata": {},
   "source": [
    "## 2.1. 스크립트 모드의 코드 작성 방법\n",
    "- ![script_mode_example](img/script_mode_example.png)"
   ]
  },
  {
   "cell_type": "markdown",
   "metadata": {},
   "source": [
    "## 2.2.훈련 코드 확인\n",
    "- 아래의 코드는 전형적인 스크립트 모드의 코드 작성 방법을 따르고 있습니다.\n",
    "- 훈련 함수는 `from train_lib import train` 로서 이전 노트북의 **[세이지 메이커 없이]** 작성한 스크래치 버전에서 사용한 훈련 함수와 동일 합니다.\n"
   ]
  },
  {
   "cell_type": "code",
   "execution_count": 32,
   "metadata": {},
   "outputs": [],
   "source": [
    "# train_code = 'src/train_horovod.py'\n",
    "# !pygmentize {train_code}"
   ]
  },
  {
   "cell_type": "markdown",
   "metadata": {},
   "source": [
    "## 2.3. 로컬에 있는 데이타 세트의 위치를 지정 합니다."
   ]
  },
  {
   "cell_type": "code",
   "execution_count": 33,
   "metadata": {},
   "outputs": [
    {
     "name": "stdout",
     "output_type": "stream",
     "text": [
      "local_inputs:  ../data/\n"
     ]
    }
   ],
   "source": [
    "local_inputs = config.main_path\n",
    "print(\"local_inputs: \", local_inputs)"
   ]
  },
  {
   "cell_type": "code",
   "execution_count": 34,
   "metadata": {},
   "outputs": [],
   "source": [
    "local_inputs = {'train': f'file://{local_inputs}',\n",
    "          'test': f'file://{local_inputs}'}"
   ]
  },
  {
   "cell_type": "markdown",
   "metadata": {},
   "source": [
    "## 2.4. 로컬 모드로 훈련 실행\n",
    "- 아래의 두 라인이 로컬모드로 훈련을 지시 합니다.\n",
    "```python\n",
    "    instance_type=instance_type, # local_gpu or local 지정\n",
    "    session = sagemaker.LocalSession(), # 로컬 세션을 사용합니다.\n",
    "```"
   ]
  },
  {
   "cell_type": "code",
   "execution_count": 37,
   "metadata": {},
   "outputs": [],
   "source": [
    "hyperparameters = {'epochs': 1, \n",
    "                   'lr': 0.001,\n",
    "                   'batch_size': 256 * 4,\n",
    "                   'top_k' : 10,\n",
    "                   'dropout' : 0.0,\n",
    "                   'factor_num' : 32,\n",
    "                   'num_layers' : 3,\n",
    "                   'num_ng' : 4,\n",
    "                   'test_num_ng' : 99,   \n",
    "                    }  "
   ]
  },
  {
   "cell_type": "code",
   "execution_count": 40,
   "metadata": {},
   "outputs": [
    {
     "name": "stderr",
     "output_type": "stream",
     "text": [
      "INFO:sagemaker.image_uris:Defaulting to the only supported framework/algorithm version: latest.\n",
      "INFO:sagemaker.image_uris:Ignoring unnecessary instance type: None.\n",
      "INFO:sagemaker:Creating training-job with name: pytorch-training-2022-05-22-12-55-48-100\n",
      "INFO:sagemaker.local.local_session:Starting training job\n",
      "INFO:sagemaker.local.image:No AWS credentials found in session but credentials from EC2 Metadata Service are available.\n",
      "INFO:sagemaker.local.image:docker compose file: \n",
      "networks:\n",
      "  sagemaker-local:\n",
      "    name: sagemaker-local\n",
      "services:\n",
      "  algo-1-suf4n:\n",
      "    command: train\n",
      "    container_name: n9si5jei9k-algo-1-suf4n\n",
      "    environment:\n",
      "    - '[Masked]'\n",
      "    - '[Masked]'\n",
      "    image: 763104351884.dkr.ecr.us-east-1.amazonaws.com/pytorch-training:1.8.1-gpu-py3\n",
      "    networks:\n",
      "      sagemaker-local:\n",
      "        aliases:\n",
      "        - algo-1-suf4n\n",
      "    runtime: nvidia\n",
      "    stdin_open: true\n",
      "    tty: true\n",
      "    volumes:\n",
      "    - /tmp/tmp5b_6pp49/algo-1-suf4n/input:/opt/ml/input\n",
      "    - /tmp/tmp5b_6pp49/algo-1-suf4n/output/data:/opt/ml/output/data\n",
      "    - /tmp/tmp5b_6pp49/algo-1-suf4n/output:/opt/ml/output\n",
      "    - /tmp/tmp5b_6pp49/model:/opt/ml/model\n",
      "    - /opt/ml/metadata:/opt/ml/metadata\n",
      "    - /home/ec2-user/SageMaker/Neural-Collaborative-Filtering-On-SageMaker/data:/opt/ml/input/data/train\n",
      "    - /home/ec2-user/SageMaker/Neural-Collaborative-Filtering-On-SageMaker/data:/opt/ml/input/data/test\n",
      "version: '2.3'\n",
      "\n",
      "INFO:sagemaker.local.image:docker command: docker-compose -f /tmp/tmp5b_6pp49/docker-compose.yaml up --build --abort-on-container-exit\n"
     ]
    },
    {
     "name": "stdout",
     "output_type": "stream",
     "text": [
      "Creating n9si5jei9k-algo-1-suf4n ... \n",
      "Creating n9si5jei9k-algo-1-suf4n ... done\n",
      "Attaching to n9si5jei9k-algo-1-suf4n\n",
      "\u001b[36mn9si5jei9k-algo-1-suf4n |\u001b[0m 2022-05-22 12:55:51,708 sagemaker-training-toolkit INFO     Imported framework sagemaker_pytorch_container.training\n",
      "\u001b[36mn9si5jei9k-algo-1-suf4n |\u001b[0m 2022-05-22 12:55:51,751 sagemaker_pytorch_container.training INFO     Block until all host DNS lookups succeed.\n",
      "\u001b[36mn9si5jei9k-algo-1-suf4n |\u001b[0m 2022-05-22 12:55:51,754 sagemaker_pytorch_container.training INFO     Invoking user training script.\n",
      "\u001b[36mn9si5jei9k-algo-1-suf4n |\u001b[0m 2022-05-22 12:55:51,959 sagemaker-training-toolkit INFO     Installing dependencies from requirements.txt:\n",
      "\u001b[36mn9si5jei9k-algo-1-suf4n |\u001b[0m /opt/conda/bin/python3.6 -m pip install -r requirements.txt\n",
      "\u001b[36mn9si5jei9k-algo-1-suf4n |\u001b[0m Requirement already satisfied: nvidia-ml-py3==7.352 in /opt/conda/lib/python3.6/site-packages (from -r requirements.txt (line 1)) (7.352.0)\n",
      "\u001b[36mn9si5jei9k-algo-1-suf4n |\u001b[0m Collecting pandas==0.24.2\n",
      "\u001b[36mn9si5jei9k-algo-1-suf4n |\u001b[0m   Downloading pandas-0.24.2-cp36-cp36m-manylinux1_x86_64.whl (10.1 MB)\n",
      "     |████████████████████████████████| 10.1 MB 26.4 MB/s            \n",
      "\u001b[36mn9si5jei9k-algo-1-suf4n |\u001b[0m \u001b[?25hCollecting numpy==1.16.6\n",
      "\u001b[36mn9si5jei9k-algo-1-suf4n |\u001b[0m   Downloading numpy-1.16.6-cp36-cp36m-manylinux1_x86_64.whl (17.4 MB)\n",
      "     |████████████████████████████████| 17.4 MB 55.8 MB/s            \n",
      "\u001b[36mn9si5jei9k-algo-1-suf4n |\u001b[0m \u001b[?25hRequirement already satisfied: torch==1.8.1 in /opt/conda/lib/python3.6/site-packages (from -r requirements.txt (line 4)) (1.8.1)\n",
      "\u001b[36mn9si5jei9k-algo-1-suf4n |\u001b[0m Collecting gensim==3.7.1\n",
      "\u001b[36mn9si5jei9k-algo-1-suf4n |\u001b[0m   Downloading gensim-3.7.1-cp36-cp36m-manylinux1_x86_64.whl (24.2 MB)\n",
      "     |████████████████████████████████| 24.2 MB 58.5 MB/s            \n",
      "\u001b[36mn9si5jei9k-algo-1-suf4n |\u001b[0m \u001b[?25hCollecting tensorboardX==1.6\n",
      "\u001b[36mn9si5jei9k-algo-1-suf4n |\u001b[0m   Downloading tensorboardX-1.6-py2.py3-none-any.whl (129 kB)\n",
      "     |████████████████████████████████| 129 kB 70.0 MB/s            \n",
      "\u001b[36mn9si5jei9k-algo-1-suf4n |\u001b[0m \u001b[?25hRequirement already satisfied: python-dateutil>=2.5.0 in /opt/conda/lib/python3.6/site-packages (from pandas==0.24.2->-r requirements.txt (line 2)) (2.8.2)\n",
      "\u001b[36mn9si5jei9k-algo-1-suf4n |\u001b[0m Requirement already satisfied: pytz>=2011k in /opt/conda/lib/python3.6/site-packages (from pandas==0.24.2->-r requirements.txt (line 2)) (2021.3)\n",
      "\u001b[36mn9si5jei9k-algo-1-suf4n |\u001b[0m Requirement already satisfied: dataclasses in /opt/conda/lib/python3.6/site-packages (from torch==1.8.1->-r requirements.txt (line 4)) (0.8)\n",
      "\u001b[36mn9si5jei9k-algo-1-suf4n |\u001b[0m Requirement already satisfied: typing-extensions in /opt/conda/lib/python3.6/site-packages (from torch==1.8.1->-r requirements.txt (line 4)) (3.10.0.2)\n",
      "\u001b[36mn9si5jei9k-algo-1-suf4n |\u001b[0m Requirement already satisfied: scipy>=0.18.1 in /opt/conda/lib/python3.6/site-packages (from gensim==3.7.1->-r requirements.txt (line 5)) (1.5.4)\n",
      "\u001b[36mn9si5jei9k-algo-1-suf4n |\u001b[0m Requirement already satisfied: smart-open>=1.7.0 in /opt/conda/lib/python3.6/site-packages (from gensim==3.7.1->-r requirements.txt (line 5)) (5.2.1)\n",
      "\u001b[36mn9si5jei9k-algo-1-suf4n |\u001b[0m Requirement already satisfied: six>=1.5.0 in /opt/conda/lib/python3.6/site-packages (from gensim==3.7.1->-r requirements.txt (line 5)) (1.16.0)\n",
      "\u001b[36mn9si5jei9k-algo-1-suf4n |\u001b[0m Requirement already satisfied: protobuf>=3.2.0 in /opt/conda/lib/python3.6/site-packages (from tensorboardX==1.6->-r requirements.txt (line 6)) (3.19.1)\n",
      "\u001b[36mn9si5jei9k-algo-1-suf4n |\u001b[0m Installing collected packages: numpy, tensorboardX, pandas, gensim\n",
      "\u001b[36mn9si5jei9k-algo-1-suf4n |\u001b[0m   Attempting uninstall: numpy\n",
      "\u001b[36mn9si5jei9k-algo-1-suf4n |\u001b[0m     Found existing installation: numpy 1.19.1\n",
      "\u001b[36mn9si5jei9k-algo-1-suf4n |\u001b[0m     Uninstalling numpy-1.19.1:\n",
      "\u001b[36mn9si5jei9k-algo-1-suf4n |\u001b[0m       Successfully uninstalled numpy-1.19.1\n",
      "\u001b[36mn9si5jei9k-algo-1-suf4n |\u001b[0m   Attempting uninstall: pandas\n",
      "\u001b[36mn9si5jei9k-algo-1-suf4n |\u001b[0m     Found existing installation: pandas 1.1.5\n",
      "\u001b[36mn9si5jei9k-algo-1-suf4n |\u001b[0m     Uninstalling pandas-1.1.5:\n",
      "\u001b[36mn9si5jei9k-algo-1-suf4n |\u001b[0m       Successfully uninstalled pandas-1.1.5\n",
      "\u001b[36mn9si5jei9k-algo-1-suf4n |\u001b[0m Successfully installed gensim-3.7.1 numpy-1.16.6 pandas-0.24.2 tensorboardX-1.6\n",
      "\u001b[36mn9si5jei9k-algo-1-suf4n |\u001b[0m WARNING: Running pip as the 'root' user can result in broken permissions and conflicting behaviour with the system package manager. It is recommended to use a virtual environment instead: https://pip.pypa.io/warnings/venv\n",
      "\u001b[36mn9si5jei9k-algo-1-suf4n |\u001b[0m \n",
      "\u001b[36mn9si5jei9k-algo-1-suf4n |\u001b[0m 2022-05-22 12:56:03,575 sagemaker-training-toolkit INFO     Invoking user script\n",
      "\u001b[36mn9si5jei9k-algo-1-suf4n |\u001b[0m \n",
      "\u001b[36mn9si5jei9k-algo-1-suf4n |\u001b[0m Training Env:\n",
      "\u001b[36mn9si5jei9k-algo-1-suf4n |\u001b[0m \n",
      "\u001b[36mn9si5jei9k-algo-1-suf4n |\u001b[0m {\n",
      "\u001b[36mn9si5jei9k-algo-1-suf4n |\u001b[0m     \"additional_framework_parameters\": {},\n",
      "\u001b[36mn9si5jei9k-algo-1-suf4n |\u001b[0m     \"channel_input_dirs\": {\n",
      "\u001b[36mn9si5jei9k-algo-1-suf4n |\u001b[0m         \"train\": \"/opt/ml/input/data/train\",\n",
      "\u001b[36mn9si5jei9k-algo-1-suf4n |\u001b[0m         \"test\": \"/opt/ml/input/data/test\"\n",
      "\u001b[36mn9si5jei9k-algo-1-suf4n |\u001b[0m     },\n",
      "\u001b[36mn9si5jei9k-algo-1-suf4n |\u001b[0m     \"current_host\": \"algo-1-suf4n\",\n",
      "\u001b[36mn9si5jei9k-algo-1-suf4n |\u001b[0m     \"framework_module\": \"sagemaker_pytorch_container.training:main\",\n",
      "\u001b[36mn9si5jei9k-algo-1-suf4n |\u001b[0m     \"hosts\": [\n",
      "\u001b[36mn9si5jei9k-algo-1-suf4n |\u001b[0m         \"algo-1-suf4n\"\n",
      "\u001b[36mn9si5jei9k-algo-1-suf4n |\u001b[0m     ],\n",
      "\u001b[36mn9si5jei9k-algo-1-suf4n |\u001b[0m     \"hyperparameters\": {\n",
      "\u001b[36mn9si5jei9k-algo-1-suf4n |\u001b[0m         \"epochs\": 1,\n",
      "\u001b[36mn9si5jei9k-algo-1-suf4n |\u001b[0m         \"lr\": 0.001,\n",
      "\u001b[36mn9si5jei9k-algo-1-suf4n |\u001b[0m         \"batch_size\": 1024,\n",
      "\u001b[36mn9si5jei9k-algo-1-suf4n |\u001b[0m         \"top_k\": 10,\n",
      "\u001b[36mn9si5jei9k-algo-1-suf4n |\u001b[0m         \"dropout\": 0.0,\n",
      "\u001b[36mn9si5jei9k-algo-1-suf4n |\u001b[0m         \"factor_num\": 32,\n",
      "\u001b[36mn9si5jei9k-algo-1-suf4n |\u001b[0m         \"num_layers\": 3,\n",
      "\u001b[36mn9si5jei9k-algo-1-suf4n |\u001b[0m         \"num_ng\": 4,\n",
      "\u001b[36mn9si5jei9k-algo-1-suf4n |\u001b[0m         \"test_num_ng\": 99\n",
      "\u001b[36mn9si5jei9k-algo-1-suf4n |\u001b[0m     },\n",
      "\u001b[36mn9si5jei9k-algo-1-suf4n |\u001b[0m     \"input_config_dir\": \"/opt/ml/input/config\",\n",
      "\u001b[36mn9si5jei9k-algo-1-suf4n |\u001b[0m     \"input_data_config\": {\n",
      "\u001b[36mn9si5jei9k-algo-1-suf4n |\u001b[0m         \"train\": {\n",
      "\u001b[36mn9si5jei9k-algo-1-suf4n |\u001b[0m             \"TrainingInputMode\": \"File\"\n",
      "\u001b[36mn9si5jei9k-algo-1-suf4n |\u001b[0m         },\n",
      "\u001b[36mn9si5jei9k-algo-1-suf4n |\u001b[0m         \"test\": {\n",
      "\u001b[36mn9si5jei9k-algo-1-suf4n |\u001b[0m             \"TrainingInputMode\": \"File\"\n",
      "\u001b[36mn9si5jei9k-algo-1-suf4n |\u001b[0m         }\n",
      "\u001b[36mn9si5jei9k-algo-1-suf4n |\u001b[0m     },\n",
      "\u001b[36mn9si5jei9k-algo-1-suf4n |\u001b[0m     \"input_dir\": \"/opt/ml/input\",\n",
      "\u001b[36mn9si5jei9k-algo-1-suf4n |\u001b[0m     \"is_master\": true,\n",
      "\u001b[36mn9si5jei9k-algo-1-suf4n |\u001b[0m     \"job_name\": \"pytorch-training-2022-05-22-12-55-48-100\",\n",
      "\u001b[36mn9si5jei9k-algo-1-suf4n |\u001b[0m     \"log_level\": 20,\n",
      "\u001b[36mn9si5jei9k-algo-1-suf4n |\u001b[0m     \"master_hostname\": \"algo-1-suf4n\",\n",
      "\u001b[36mn9si5jei9k-algo-1-suf4n |\u001b[0m     \"model_dir\": \"/opt/ml/model\",\n",
      "\u001b[36mn9si5jei9k-algo-1-suf4n |\u001b[0m     \"module_dir\": \"s3://sagemaker-us-east-1-057716757052/pytorch-training-2022-05-22-12-55-48-100/source/sourcedir.tar.gz\",\n",
      "\u001b[36mn9si5jei9k-algo-1-suf4n |\u001b[0m     \"module_name\": \"train_horovod\",\n",
      "\u001b[36mn9si5jei9k-algo-1-suf4n |\u001b[0m     \"network_interface_name\": \"eth0\",\n",
      "\u001b[36mn9si5jei9k-algo-1-suf4n |\u001b[0m     \"num_cpus\": 32,\n",
      "\u001b[36mn9si5jei9k-algo-1-suf4n |\u001b[0m     \"num_gpus\": 4,\n",
      "\u001b[36mn9si5jei9k-algo-1-suf4n |\u001b[0m     \"output_data_dir\": \"/opt/ml/output/data\",\n",
      "\u001b[36mn9si5jei9k-algo-1-suf4n |\u001b[0m     \"output_dir\": \"/opt/ml/output\",\n",
      "\u001b[36mn9si5jei9k-algo-1-suf4n |\u001b[0m     \"output_intermediate_dir\": \"/opt/ml/output/intermediate\",\n",
      "\u001b[36mn9si5jei9k-algo-1-suf4n |\u001b[0m     \"resource_config\": {\n",
      "\u001b[36mn9si5jei9k-algo-1-suf4n |\u001b[0m         \"current_host\": \"algo-1-suf4n\",\n",
      "\u001b[36mn9si5jei9k-algo-1-suf4n |\u001b[0m         \"hosts\": [\n",
      "\u001b[36mn9si5jei9k-algo-1-suf4n |\u001b[0m             \"algo-1-suf4n\"\n",
      "\u001b[36mn9si5jei9k-algo-1-suf4n |\u001b[0m         ]\n",
      "\u001b[36mn9si5jei9k-algo-1-suf4n |\u001b[0m     },\n",
      "\u001b[36mn9si5jei9k-algo-1-suf4n |\u001b[0m     \"user_entry_point\": \"train_horovod.py\"\n",
      "\u001b[36mn9si5jei9k-algo-1-suf4n |\u001b[0m }\n",
      "\u001b[36mn9si5jei9k-algo-1-suf4n |\u001b[0m \n",
      "\u001b[36mn9si5jei9k-algo-1-suf4n |\u001b[0m Environment variables:\n",
      "\u001b[36mn9si5jei9k-algo-1-suf4n |\u001b[0m \n",
      "\u001b[36mn9si5jei9k-algo-1-suf4n |\u001b[0m SM_HOSTS=[\"algo-1-suf4n\"]\n",
      "\u001b[36mn9si5jei9k-algo-1-suf4n |\u001b[0m SM_NETWORK_INTERFACE_NAME=eth0\n",
      "\u001b[36mn9si5jei9k-algo-1-suf4n |\u001b[0m SM_HPS={\"batch_size\":1024,\"dropout\":0.0,\"epochs\":1,\"factor_num\":32,\"lr\":0.001,\"num_layers\":3,\"num_ng\":4,\"test_num_ng\":99,\"top_k\":10}\n",
      "\u001b[36mn9si5jei9k-algo-1-suf4n |\u001b[0m SM_USER_ENTRY_POINT=train_horovod.py\n",
      "\u001b[36mn9si5jei9k-algo-1-suf4n |\u001b[0m SM_FRAMEWORK_PARAMS={}\n",
      "\u001b[36mn9si5jei9k-algo-1-suf4n |\u001b[0m SM_RESOURCE_CONFIG={\"current_host\":\"algo-1-suf4n\",\"hosts\":[\"algo-1-suf4n\"]}\n",
      "\u001b[36mn9si5jei9k-algo-1-suf4n |\u001b[0m SM_INPUT_DATA_CONFIG={\"test\":{\"TrainingInputMode\":\"File\"},\"train\":{\"TrainingInputMode\":\"File\"}}\n",
      "\u001b[36mn9si5jei9k-algo-1-suf4n |\u001b[0m SM_OUTPUT_DATA_DIR=/opt/ml/output/data\n",
      "\u001b[36mn9si5jei9k-algo-1-suf4n |\u001b[0m SM_CHANNELS=[\"test\",\"train\"]\n",
      "\u001b[36mn9si5jei9k-algo-1-suf4n |\u001b[0m SM_CURRENT_HOST=algo-1-suf4n\n",
      "\u001b[36mn9si5jei9k-algo-1-suf4n |\u001b[0m SM_MODULE_NAME=train_horovod\n",
      "\u001b[36mn9si5jei9k-algo-1-suf4n |\u001b[0m SM_LOG_LEVEL=20\n",
      "\u001b[36mn9si5jei9k-algo-1-suf4n |\u001b[0m SM_FRAMEWORK_MODULE=sagemaker_pytorch_container.training:main\n",
      "\u001b[36mn9si5jei9k-algo-1-suf4n |\u001b[0m SM_INPUT_DIR=/opt/ml/input\n",
      "\u001b[36mn9si5jei9k-algo-1-suf4n |\u001b[0m SM_INPUT_CONFIG_DIR=/opt/ml/input/config\n",
      "\u001b[36mn9si5jei9k-algo-1-suf4n |\u001b[0m SM_OUTPUT_DIR=/opt/ml/output\n",
      "\u001b[36mn9si5jei9k-algo-1-suf4n |\u001b[0m SM_NUM_CPUS=32\n",
      "\u001b[36mn9si5jei9k-algo-1-suf4n |\u001b[0m SM_NUM_GPUS=4\n",
      "\u001b[36mn9si5jei9k-algo-1-suf4n |\u001b[0m SM_MODEL_DIR=/opt/ml/model\n",
      "\u001b[36mn9si5jei9k-algo-1-suf4n |\u001b[0m SM_MODULE_DIR=s3://sagemaker-us-east-1-057716757052/pytorch-training-2022-05-22-12-55-48-100/source/sourcedir.tar.gz\n",
      "\u001b[36mn9si5jei9k-algo-1-suf4n |\u001b[0m SM_TRAINING_ENV={\"additional_framework_parameters\":{},\"channel_input_dirs\":{\"test\":\"/opt/ml/input/data/test\",\"train\":\"/opt/ml/input/data/train\"},\"current_host\":\"algo-1-suf4n\",\"framework_module\":\"sagemaker_pytorch_container.training:main\",\"hosts\":[\"algo-1-suf4n\"],\"hyperparameters\":{\"batch_size\":1024,\"dropout\":0.0,\"epochs\":1,\"factor_num\":32,\"lr\":0.001,\"num_layers\":3,\"num_ng\":4,\"test_num_ng\":99,\"top_k\":10},\"input_config_dir\":\"/opt/ml/input/config\",\"input_data_config\":{\"test\":{\"TrainingInputMode\":\"File\"},\"train\":{\"TrainingInputMode\":\"File\"}},\"input_dir\":\"/opt/ml/input\",\"is_master\":true,\"job_name\":\"pytorch-training-2022-05-22-12-55-48-100\",\"log_level\":20,\"master_hostname\":\"algo-1-suf4n\",\"model_dir\":\"/opt/ml/model\",\"module_dir\":\"s3://sagemaker-us-east-1-057716757052/pytorch-training-2022-05-22-12-55-48-100/source/sourcedir.tar.gz\",\"module_name\":\"train_horovod\",\"network_interface_name\":\"eth0\",\"num_cpus\":32,\"num_gpus\":4,\"output_data_dir\":\"/opt/ml/output/data\",\"output_dir\":\"/opt/ml/output\",\"output_intermediate_dir\":\"/opt/ml/output/intermediate\",\"resource_config\":{\"current_host\":\"algo-1-suf4n\",\"hosts\":[\"algo-1-suf4n\"]},\"user_entry_point\":\"train_horovod.py\"}\n",
      "\u001b[36mn9si5jei9k-algo-1-suf4n |\u001b[0m SM_USER_ARGS=[\"--batch_size\",\"1024\",\"--dropout\",\"0.0\",\"--epochs\",\"1\",\"--factor_num\",\"32\",\"--lr\",\"0.001\",\"--num_layers\",\"3\",\"--num_ng\",\"4\",\"--test_num_ng\",\"99\",\"--top_k\",\"10\"]\n",
      "\u001b[36mn9si5jei9k-algo-1-suf4n |\u001b[0m SM_OUTPUT_INTERMEDIATE_DIR=/opt/ml/output/intermediate\n",
      "\u001b[36mn9si5jei9k-algo-1-suf4n |\u001b[0m SM_CHANNEL_TRAIN=/opt/ml/input/data/train\n",
      "\u001b[36mn9si5jei9k-algo-1-suf4n |\u001b[0m SM_CHANNEL_TEST=/opt/ml/input/data/test\n",
      "\u001b[36mn9si5jei9k-algo-1-suf4n |\u001b[0m SM_HP_EPOCHS=1\n",
      "\u001b[36mn9si5jei9k-algo-1-suf4n |\u001b[0m SM_HP_LR=0.001\n",
      "\u001b[36mn9si5jei9k-algo-1-suf4n |\u001b[0m SM_HP_BATCH_SIZE=1024\n",
      "\u001b[36mn9si5jei9k-algo-1-suf4n |\u001b[0m SM_HP_TOP_K=10\n",
      "\u001b[36mn9si5jei9k-algo-1-suf4n |\u001b[0m SM_HP_DROPOUT=0.0\n",
      "\u001b[36mn9si5jei9k-algo-1-suf4n |\u001b[0m SM_HP_FACTOR_NUM=32\n",
      "\u001b[36mn9si5jei9k-algo-1-suf4n |\u001b[0m SM_HP_NUM_LAYERS=3\n",
      "\u001b[36mn9si5jei9k-algo-1-suf4n |\u001b[0m SM_HP_NUM_NG=4\n",
      "\u001b[36mn9si5jei9k-algo-1-suf4n |\u001b[0m SM_HP_TEST_NUM_NG=99\n",
      "\u001b[36mn9si5jei9k-algo-1-suf4n |\u001b[0m PYTHONPATH=/opt/ml/code:/opt/conda/bin:/opt/conda/lib/python36.zip:/opt/conda/lib/python3.6:/opt/conda/lib/python3.6/lib-dynload:/opt/conda/lib/python3.6/site-packages\n",
      "\u001b[36mn9si5jei9k-algo-1-suf4n |\u001b[0m \n",
      "\u001b[36mn9si5jei9k-algo-1-suf4n |\u001b[0m Invoking script with the following command:\n",
      "\u001b[36mn9si5jei9k-algo-1-suf4n |\u001b[0m \n",
      "\u001b[36mn9si5jei9k-algo-1-suf4n |\u001b[0m /opt/conda/bin/python3.6 train_horovod.py --batch_size 1024 --dropout 0.0 --epochs 1 --factor_num 32 --lr 0.001 --num_layers 3 --num_ng 4 --test_num_ng 99 --top_k 10\n",
      "\u001b[36mn9si5jei9k-algo-1-suf4n |\u001b[0m \n",
      "\u001b[36mn9si5jei9k-algo-1-suf4n |\u001b[0m \n",
      "\u001b[36mn9si5jei9k-algo-1-suf4n |\u001b[0m args: \n",
      "\u001b[36mn9si5jei9k-algo-1-suf4n |\u001b[0m  Namespace(batch_size=1024, dropout=0.0, epochs=1, factor_num=32, gpu='0', lr=0.001, model_dir='/opt/ml/model', num_layers=3, num_ng=4, out=True, seed=42, test_data_dir='/opt/ml/input/data/test', test_num_ng=99, top_k=10, train_data_dir='/opt/ml/input/data/train')\n",
      "\u001b[36mn9si5jei9k-algo-1-suf4n |\u001b[0m device:  cuda\n",
      "\u001b[36mn9si5jei9k-algo-1-suf4n |\u001b[0m args.train_data_dir:  /opt/ml/input/data/train\n",
      "\u001b[36mn9si5jei9k-algo-1-suf4n |\u001b[0m args.test_data_dir:  /opt/ml/input/data/test\n",
      "\u001b[36mn9si5jei9k-algo-1-suf4n |\u001b[0m args.model_dir:  /opt/ml/model\n",
      "\u001b[36mn9si5jei9k-algo-1-suf4n |\u001b[0m Get train data sampler and data loader\n",
      "\u001b[36mn9si5jei9k-algo-1-suf4n |\u001b[0m =====> train data loading <===========\n",
      "\u001b[36mn9si5jei9k-algo-1-suf4n |\u001b[0m =====> create train data loader <===========\n",
      "\u001b[36mn9si5jei9k-algo-1-suf4n |\u001b[0m Get test data sampler and data loader\n",
      "\u001b[36mn9si5jei9k-algo-1-suf4n |\u001b[0m =====> test data loading <===========\n",
      "\u001b[36mn9si5jei9k-algo-1-suf4n |\u001b[0m =====> create test data loader <===========\n",
      "\u001b[36mn9si5jei9k-algo-1-suf4n |\u001b[0m Processes 4970845/4970845 (100%) of train data\n",
      "\u001b[36mn9si5jei9k-algo-1-suf4n |\u001b[0m Processes 604000/604000 (100%) of test data\n",
      "\u001b[36mn9si5jei9k-algo-1-suf4n |\u001b[0m Gpu count: 4\n",
      "\u001b[36mn9si5jei9k-algo-1-suf4n |\u001b[0m Pretrained model is NOT used\n",
      "\u001b[36mn9si5jei9k-algo-1-suf4n |\u001b[0m =====> Staring Traiing <===========\n",
      "\u001b[36mn9si5jei9k-algo-1-suf4n |\u001b[0m [2022-05-22 12:56:49.791 algo-1-suf4n:32 INFO utils.py:27] RULE_JOB_STOP_SIGNAL_FILENAME: None\n",
      "\u001b[36mn9si5jei9k-algo-1-suf4n |\u001b[0m [2022-05-22 12:56:49.835 algo-1-suf4n:32 INFO profiler_config_parser.py:102] Unable to find config at /opt/ml/input/config/profilerconfig.json. Profiler is disabled.\n",
      "\u001b[36mn9si5jei9k-algo-1-suf4n |\u001b[0m \n",
      "\u001b[36mn9si5jei9k-algo-1-suf4n |\u001b[0m algo-1-suf4n:32:32 [0] ofi_init:1136 NCCL WARN NET/OFI Only EFA provider is supported\n",
      "\u001b[36mn9si5jei9k-algo-1-suf4n |\u001b[0m NCCL version 2.7.8+cuda11.1\n",
      "\u001b[36mn9si5jei9k-algo-1-suf4n |\u001b[0m len(test_loader.sampler):  604000\n",
      "\u001b[36mn9si5jei9k-algo-1-suf4n |\u001b[0m Before merge, Test set: Average HR: 0.1033, NDCG: 0.05%\n",
      "\u001b[36mn9si5jei9k-algo-1-suf4n |\u001b[0m \n",
      "\u001b[36mn9si5jei9k-algo-1-suf4n |\u001b[0m Test set: Average HR: 0.1033, NDCG: 0.05%\n",
      "\u001b[36mn9si5jei9k-algo-1-suf4n |\u001b[0m \n",
      "\u001b[36mn9si5jei9k-algo-1-suf4n |\u001b[0m The time elapse of epoch 000 is: 00: 02: 38\n",
      "\u001b[36mn9si5jei9k-algo-1-suf4n |\u001b[0m HR=0.103; \t NDCG=0.049;\n",
      "\u001b[36mn9si5jei9k-algo-1-suf4n |\u001b[0m best_hr:  0\n",
      "\u001b[36mn9si5jei9k-algo-1-suf4n |\u001b[0m the model is saved at /opt/ml/model/NeuMF-end.pth\n",
      "\u001b[36mn9si5jei9k-algo-1-suf4n |\u001b[0m End. Best epoch 000: HR = 0.103, NDCG = 0.049\n",
      "\u001b[36mn9si5jei9k-algo-1-suf4n |\u001b[0m \n",
      "\u001b[36mn9si5jei9k-algo-1-suf4n |\u001b[0m 2022-05-22 12:59:18,798 sagemaker-training-toolkit INFO     Reporting training SUCCESS\n",
      "\u001b[36mn9si5jei9k-algo-1-suf4n exited with code 0\n",
      "\u001b[0mAborting on container exit...\n",
      "===== Job Complete =====\n"
     ]
    }
   ],
   "source": [
    "from sagemaker.pytorch import PyTorch\n",
    "import os\n",
    "import subprocess\n",
    "\n",
    "\n",
    "local_estimator = PyTorch(\n",
    "    entry_point=\"train_horovod.py\",    \n",
    "    source_dir='src',    \n",
    "    role=role,\n",
    "    framework_version='1.8.1',\n",
    "    py_version='py3',\n",
    "    instance_count=1,\n",
    "    instance_type=instance_type, # local_gpu or local 지정\n",
    "    session = sagemaker.LocalSession(), # 로컬 세션을 사용합니다.\n",
    "    hyperparameters= hyperparameters               \n",
    "    \n",
    ")\n",
    "local_estimator.fit(local_inputs)"
   ]
  },
  {
   "cell_type": "markdown",
   "metadata": {},
   "source": [
    "# 3. SageMaker Host Mode 로 훈련\n",
    "- instance_type, session 을 수정 합니다.\n",
    "- 입력 데이터를 inputs로서 S3 의 경로를 제공합니다.\n",
    "- wait=False 로 지정해서 async 모드로 훈련을 실행합니다. \n",
    "- 실행 경과는 아래의 cifar10_estimator.logs() 에서 확인 합니다."
   ]
  },
  {
   "cell_type": "markdown",
   "metadata": {},
   "source": [
    "## 3.1. 데이터 세트를 S3에 업로드\n"
   ]
  },
  {
   "cell_type": "code",
   "execution_count": 11,
   "metadata": {},
   "outputs": [
    {
     "name": "stdout",
     "output_type": "stream",
     "text": [
      "s3_data_loc:  s3://sagemaker-us-east-1-057716757052/NCFModel/data\n"
     ]
    }
   ],
   "source": [
    "s3_data_loc = sagemaker_session.upload_data(path=config.main_path, bucket=bucket, \n",
    "                                       key_prefix=f\"{prefix}/data\")\n",
    "print(\"s3_data_loc: \", s3_data_loc)"
   ]
  },
  {
   "cell_type": "code",
   "execution_count": 12,
   "metadata": {},
   "outputs": [
    {
     "name": "stdout",
     "output_type": "stream",
     "text": [
      "2022-05-21 07:03:58     128039 NCFModel/data/.ipynb_checkpoints/ml-1m.test-checkpoint.rating\n",
      "2022-05-22 11:19:10    2891424 NCFModel/data/ml-1m.test.negative\n",
      "2022-05-22 11:19:10     128039 NCFModel/data/ml-1m.test.rating\n",
      "2022-05-22 11:19:10   20982911 NCFModel/data/ml-1m.train.rating\n",
      "2022-05-21 07:03:58   27404899 NCFModel/data/pinterest-20.test.negative\n",
      "2022-05-21 07:03:54     807267 NCFModel/data/pinterest-20.test.rating\n",
      "2022-05-21 07:03:55   21138451 NCFModel/data/pinterest-20.train.rating\n"
     ]
    }
   ],
   "source": [
    "! aws s3 ls {s3_data_loc} --recursive"
   ]
  },
  {
   "cell_type": "markdown",
   "metadata": {},
   "source": [
    "## 3.2. 훈련 및 테스트 데이터를 S3 로 지정"
   ]
  },
  {
   "cell_type": "code",
   "execution_count": 13,
   "metadata": {},
   "outputs": [
    {
     "name": "stdout",
     "output_type": "stream",
     "text": [
      "s3_inputs: \n",
      " {'train': 's3://sagemaker-us-east-1-057716757052/NCFModel/data', 'test': 's3://sagemaker-us-east-1-057716757052/NCFModel/data'}\n"
     ]
    }
   ],
   "source": [
    "s3_inputs = {\n",
    "            'train': f'{s3_data_loc}',\n",
    "            'test': f'{s3_data_loc}'\n",
    "            }\n",
    "\n",
    "print(\"s3_inputs: \\n\", s3_inputs)"
   ]
  },
  {
   "cell_type": "markdown",
   "metadata": {},
   "source": [
    "## 3.3. 실험 세팅"
   ]
  },
  {
   "cell_type": "markdown",
   "metadata": {},
   "source": [
    "### 실험(Experiment) 세팅\n",
    "- Amazon SageMaker 실험은 기계 학습 실험을 구성, 추적, 비교 및 평가할 수 있는 Amazon SageMaker 의 기능입니다\n",
    "- 상세 사항은 개발자 가이드 참조 하세요. --> [Amazon SageMaker 실험을 통한 Machine Learning 관리](https://docs.aws.amazon.com/ko_kr/sagemaker/latest/dg/experiments.html)\n",
    "- sagemaker experiment는 추가적인 패키지를 설치하여야 합니다. 1_Setup_Environment 가 실행이 안되었다고 하면, `!pip install --upgrade sagemaker-experiments` 를 통해 설치 해주세요.\n",
    "- 여기서는 boto3 API를 통해서 실험을 생성합니다. SageMaker Python SDK를 통해서도 가능합니다.\n"
   ]
  },
  {
   "cell_type": "markdown",
   "metadata": {},
   "source": [
    "### 실험 생성"
   ]
  },
  {
   "cell_type": "code",
   "execution_count": 14,
   "metadata": {},
   "outputs": [
    {
     "name": "stdout",
     "output_type": "stream",
     "text": [
      "Experiment:NCFModel-single-train already exists\n"
     ]
    }
   ],
   "source": [
    "# !pip install --upgrade sagemaker-experiments\n",
    "import boto3\n",
    "from smexperiments.experiment import Experiment\n",
    "from smexperiments.trial import Trial\n",
    "from smexperiments.trial_component import TrialComponent\n",
    "from smexperiments.tracker import Tracker\n",
    "\n",
    "from datetime import datetime\n",
    "\n",
    "sm_client = boto3.client('sagemaker')\n",
    "\n",
    "\n",
    "# 설험에 대한 이름을 생성 합니다.\n",
    "experiment_name = prefix + '-single-train'\n",
    "\n",
    "# 실험이 존재하지 않으면 생성하고, 그렇지 않으면 지나갑니다.\n",
    "try:\n",
    "    response = sm_client.describe_experiment(ExperimentName=experiment_name)\n",
    "    print(f\"Experiment:{experiment_name} already exists\")    \n",
    "    \n",
    "except:\n",
    "    response = sm_client.create_experiment(\n",
    "        ExperimentName = experiment_name,\n",
    "        Description = 'Experiment for NCF',\n",
    "    )\n",
    "    print(f\"Experiment:{experiment_name} is created\")        \n"
   ]
  },
  {
   "cell_type": "markdown",
   "metadata": {},
   "source": [
    "### 하이퍼 파라미터 세팅\n",
    "- epochs 값을 조절해서 실행 시간을 조정 하세요."
   ]
  },
  {
   "cell_type": "code",
   "execution_count": 15,
   "metadata": {},
   "outputs": [],
   "source": [
    "host_hyperparameters = {'epochs': 10, \n",
    "                       'lr': 0.001,\n",
    "                       'batch_size': 256,\n",
    "                       'top_k' : 10,\n",
    "                       'dropout' : 0.0,\n",
    "                       'factor_num' : 32,\n",
    "                       'num_layers' : 3,\n",
    "                       'num_ng' : 4,\n",
    "                       'test_num_ng' : 99,                   \n",
    "                    }  "
   ]
  },
  {
   "cell_type": "markdown",
   "metadata": {},
   "source": [
    "### 시도(Trial) 생성"
   ]
  },
  {
   "cell_type": "code",
   "execution_count": 16,
   "metadata": {},
   "outputs": [],
   "source": [
    "from datetime import datetime\n",
    "# 시도 이름 생성\n",
    "ts = datetime.now().strftime('%Y-%m-%d-%H-%M-%S-%f')\n",
    "trial_name = experiment_name + f\"-{ts}\"\n",
    "\n",
    "# 1개의 실험 안에 시도를 생성함.\n",
    "response = sm_client.create_trial(\n",
    "    ExperimentName = experiment_name,\n",
    "    TrialName = trial_name,\n",
    ")    \n",
    "\n",
    "# 실험 설정: 실험 이름, 시도 이름으로 구성\n",
    "experiment_config = {\n",
    "    'ExperimentName' : experiment_name,\n",
    "    'TrialName' : trial_name,\n",
    "    \"TrialComponentDisplayName\" : 'Training',\n",
    "}    \n",
    "\n"
   ]
  },
  {
   "cell_type": "markdown",
   "metadata": {},
   "source": [
    "## 3.4 훈련 실행\n"
   ]
  },
  {
   "cell_type": "markdown",
   "metadata": {},
   "source": [
    "### 훈련 메트릭을 CloudWatch 에서 보기\n",
    "- 개발자 가이드\n",
    "    - [Monitor and Analyze Training Jobs Using Amazon CloudWatch ](https://docs.amazonaws.cn/en_us/sagemaker/latest/dg/training-metrics.html#define-train-metrics)"
   ]
  },
  {
   "cell_type": "code",
   "execution_count": 17,
   "metadata": {},
   "outputs": [],
   "source": [
    "metric_definitions=[\n",
    "       {'Name': 'HR', 'Regex': 'HR=(.*?);'},\n",
    "       {'Name': 'NDCG', 'Regex': 'NDCG=(.*?);'}\n",
    "    ]\n"
   ]
  },
  {
   "cell_type": "code",
   "execution_count": 21,
   "metadata": {},
   "outputs": [
    {
     "name": "stderr",
     "output_type": "stream",
     "text": [
      "INFO:sagemaker.image_uris:Defaulting to the only supported framework/algorithm version: latest.\n",
      "INFO:sagemaker.image_uris:Ignoring unnecessary instance type: None.\n",
      "INFO:sagemaker:Creating training-job with name: pytorch-training-2022-05-22-11-20-49-885\n"
     ]
    }
   ],
   "source": [
    "from sagemaker.pytorch import PyTorch\n",
    "\n",
    "instance_type = 'ml.p3.8xlarge'\n",
    "\n",
    "host_estimator = PyTorch(\n",
    "    entry_point=\"train_horovod.py\",    \n",
    "    source_dir='src',    \n",
    "    role=role,\n",
    "    framework_version='1.8.1',\n",
    "    py_version='py3',\n",
    "    instance_count=1,\n",
    "    instance_type=instance_type,\n",
    "    session = sagemaker.Session(), # 세이지 메이커 세션\n",
    "    hyperparameters=host_hyperparameters,\n",
    "    metric_definitions = metric_definitions\n",
    "    \n",
    ")\n",
    "host_estimator.fit(s3_inputs, \n",
    "                   experiment_config = experiment_config, # 실험 설정 제공                   \n",
    "                   wait=False)"
   ]
  },
  {
   "cell_type": "code",
   "execution_count": null,
   "metadata": {},
   "outputs": [
    {
     "name": "stdout",
     "output_type": "stream",
     "text": [
      "2022-05-22 11:20:50 Starting - Starting the training job...ProfilerReport-1653218450: InProgress\n",
      "...\n",
      "2022-05-22 11:21:28 Starting - Preparing the instances for training.........\n",
      "2022-05-22 11:23:13 Downloading - Downloading input data\n",
      "2022-05-22 11:23:13 Training - Downloading the training image.....................\n",
      "2022-05-22 11:26:45 Training - Training image download completed. Training in progress.\u001b[34mbash: cannot set terminal process group (-1): Inappropriate ioctl for device\u001b[0m\n",
      "\u001b[34mbash: no job control in this shell\u001b[0m\n",
      "\u001b[34m2022-05-22 11:26:42,201 sagemaker-training-toolkit INFO     Imported framework sagemaker_pytorch_container.training\u001b[0m\n",
      "\u001b[34m2022-05-22 11:26:42,241 sagemaker_pytorch_container.training INFO     Block until all host DNS lookups succeed.\u001b[0m\n",
      "\u001b[34m2022-05-22 11:26:42,249 sagemaker_pytorch_container.training INFO     Invoking user training script.\u001b[0m\n",
      "\u001b[34m2022-05-22 11:26:42,751 sagemaker-training-toolkit INFO     Installing dependencies from requirements.txt:\u001b[0m\n",
      "\u001b[34m/opt/conda/bin/python3.6 -m pip install -r requirements.txt\u001b[0m\n",
      "\u001b[34mRequirement already satisfied: nvidia-ml-py3==7.352 in /opt/conda/lib/python3.6/site-packages (from -r requirements.txt (line 1)) (7.352.0)\u001b[0m\n",
      "\u001b[34mCollecting pandas==0.24.2\n",
      "  Downloading pandas-0.24.2-cp36-cp36m-manylinux1_x86_64.whl (10.1 MB)\u001b[0m\n",
      "\u001b[34mCollecting numpy==1.16.6\n",
      "  Downloading numpy-1.16.6-cp36-cp36m-manylinux1_x86_64.whl (17.4 MB)\u001b[0m\n",
      "\u001b[34mRequirement already satisfied: torch==1.8.1 in /opt/conda/lib/python3.6/site-packages (from -r requirements.txt (line 4)) (1.8.1)\u001b[0m\n",
      "\u001b[34mCollecting gensim==3.7.1\n",
      "  Downloading gensim-3.7.1-cp36-cp36m-manylinux1_x86_64.whl (24.2 MB)\u001b[0m\n",
      "\u001b[34mCollecting tensorboardX==1.6\n",
      "  Downloading tensorboardX-1.6-py2.py3-none-any.whl (129 kB)\u001b[0m\n",
      "\u001b[34mRequirement already satisfied: python-dateutil>=2.5.0 in /opt/conda/lib/python3.6/site-packages (from pandas==0.24.2->-r requirements.txt (line 2)) (2.8.2)\u001b[0m\n",
      "\u001b[34mRequirement already satisfied: pytz>=2011k in /opt/conda/lib/python3.6/site-packages (from pandas==0.24.2->-r requirements.txt (line 2)) (2021.3)\u001b[0m\n",
      "\u001b[34mRequirement already satisfied: typing-extensions in /opt/conda/lib/python3.6/site-packages (from torch==1.8.1->-r requirements.txt (line 4)) (3.10.0.2)\u001b[0m\n",
      "\u001b[34mRequirement already satisfied: dataclasses in /opt/conda/lib/python3.6/site-packages (from torch==1.8.1->-r requirements.txt (line 4)) (0.8)\u001b[0m\n",
      "\u001b[34mRequirement already satisfied: six>=1.5.0 in /opt/conda/lib/python3.6/site-packages (from gensim==3.7.1->-r requirements.txt (line 5)) (1.16.0)\u001b[0m\n",
      "\u001b[34mRequirement already satisfied: scipy>=0.18.1 in /opt/conda/lib/python3.6/site-packages (from gensim==3.7.1->-r requirements.txt (line 5)) (1.5.4)\u001b[0m\n",
      "\u001b[34mRequirement already satisfied: smart-open>=1.7.0 in /opt/conda/lib/python3.6/site-packages (from gensim==3.7.1->-r requirements.txt (line 5)) (5.2.1)\u001b[0m\n",
      "\u001b[34mRequirement already satisfied: protobuf>=3.2.0 in /opt/conda/lib/python3.6/site-packages (from tensorboardX==1.6->-r requirements.txt (line 6)) (3.19.1)\u001b[0m\n",
      "\u001b[34mInstalling collected packages: numpy, tensorboardX, pandas, gensim\n",
      "  Attempting uninstall: numpy\n",
      "    Found existing installation: numpy 1.19.1\n",
      "    Uninstalling numpy-1.19.1:\n",
      "      Successfully uninstalled numpy-1.19.1\u001b[0m\n",
      "\u001b[34m  Attempting uninstall: pandas\n",
      "    Found existing installation: pandas 1.1.5\u001b[0m\n",
      "\u001b[34m    Uninstalling pandas-1.1.5:\u001b[0m\n",
      "\u001b[34m      Successfully uninstalled pandas-1.1.5\u001b[0m\n",
      "\u001b[34mSuccessfully installed gensim-3.7.1 numpy-1.16.6 pandas-0.24.2 tensorboardX-1.6\u001b[0m\n",
      "\u001b[34mWARNING: Running pip as the 'root' user can result in broken permissions and conflicting behaviour with the system package manager. It is recommended to use a virtual environment instead: https://pip.pypa.io/warnings/venv\u001b[0m\n",
      "\u001b[34m2022-05-22 11:26:58,006 sagemaker-training-toolkit INFO     Invoking user script\u001b[0m\n",
      "\u001b[34mTraining Env:\u001b[0m\n",
      "\u001b[34m{\n",
      "    \"additional_framework_parameters\": {},\n",
      "    \"channel_input_dirs\": {\n",
      "        \"test\": \"/opt/ml/input/data/test\",\n",
      "        \"train\": \"/opt/ml/input/data/train\"\n",
      "    },\n",
      "    \"current_host\": \"algo-1\",\n",
      "    \"framework_module\": \"sagemaker_pytorch_container.training:main\",\n",
      "    \"hosts\": [\n",
      "        \"algo-1\"\n",
      "    ],\n",
      "    \"hyperparameters\": {\n",
      "        \"batch_size\": 256,\n",
      "        \"dropout\": 0.0,\n",
      "        \"epochs\": 10,\n",
      "        \"factor_num\": 32,\n",
      "        \"lr\": 0.001,\n",
      "        \"num_layers\": 3,\n",
      "        \"num_ng\": 4,\n",
      "        \"test_num_ng\": 99,\n",
      "        \"top_k\": 10\n",
      "    },\n",
      "    \"input_config_dir\": \"/opt/ml/input/config\",\n",
      "    \"input_data_config\": {\n",
      "        \"test\": {\n",
      "            \"TrainingInputMode\": \"File\",\n",
      "            \"S3DistributionType\": \"FullyReplicated\",\n",
      "            \"RecordWrapperType\": \"None\"\n",
      "        },\n",
      "        \"train\": {\n",
      "            \"TrainingInputMode\": \"File\",\n",
      "            \"S3DistributionType\": \"FullyReplicated\",\n",
      "            \"RecordWrapperType\": \"None\"\n",
      "        }\n",
      "    },\n",
      "    \"input_dir\": \"/opt/ml/input\",\n",
      "    \"is_master\": true,\n",
      "    \"job_name\": \"pytorch-training-2022-05-22-11-20-49-885\",\n",
      "    \"log_level\": 20,\n",
      "    \"master_hostname\": \"algo-1\",\n",
      "    \"model_dir\": \"/opt/ml/model\",\n",
      "    \"module_dir\": \"s3://sagemaker-us-east-1-057716757052/pytorch-training-2022-05-22-11-20-49-885/source/sourcedir.tar.gz\",\n",
      "    \"module_name\": \"train_horovod\",\n",
      "    \"network_interface_name\": \"eth0\",\n",
      "    \"num_cpus\": 32,\n",
      "    \"num_gpus\": 4,\n",
      "    \"output_data_dir\": \"/opt/ml/output/data\",\n",
      "    \"output_dir\": \"/opt/ml/output\",\n",
      "    \"output_intermediate_dir\": \"/opt/ml/output/intermediate\",\n",
      "    \"resource_config\": {\n",
      "        \"current_host\": \"algo-1\",\n",
      "        \"current_instance_type\": \"ml.p3.8xlarge\",\n",
      "        \"current_group_name\": \"homogeneousCluster\",\n",
      "        \"hosts\": [\n",
      "            \"algo-1\"\n",
      "        ],\n",
      "        \"instance_groups\": [\n",
      "            {\n",
      "                \"instance_group_name\": \"homogeneousCluster\",\n",
      "                \"instance_type\": \"ml.p3.8xlarge\",\n",
      "                \"hosts\": [\n",
      "                    \"algo-1\"\n",
      "                ]\n",
      "            }\n",
      "        ],\n",
      "        \"network_interface_name\": \"eth0\"\n",
      "    },\n",
      "    \"user_entry_point\": \"train_horovod.py\"\u001b[0m\n",
      "\u001b[34m}\u001b[0m\n",
      "\u001b[34mEnvironment variables:\u001b[0m\n",
      "\u001b[34mSM_HOSTS=[\"algo-1\"]\u001b[0m\n",
      "\u001b[34mSM_NETWORK_INTERFACE_NAME=eth0\u001b[0m\n",
      "\u001b[34mSM_HPS={\"batch_size\":256,\"dropout\":0.0,\"epochs\":10,\"factor_num\":32,\"lr\":0.001,\"num_layers\":3,\"num_ng\":4,\"test_num_ng\":99,\"top_k\":10}\u001b[0m\n",
      "\u001b[34mSM_USER_ENTRY_POINT=train_horovod.py\u001b[0m\n",
      "\u001b[34mSM_FRAMEWORK_PARAMS={}\u001b[0m\n",
      "\u001b[34mSM_RESOURCE_CONFIG={\"current_group_name\":\"homogeneousCluster\",\"current_host\":\"algo-1\",\"current_instance_type\":\"ml.p3.8xlarge\",\"hosts\":[\"algo-1\"],\"instance_groups\":[{\"hosts\":[\"algo-1\"],\"instance_group_name\":\"homogeneousCluster\",\"instance_type\":\"ml.p3.8xlarge\"}],\"network_interface_name\":\"eth0\"}\u001b[0m\n",
      "\u001b[34mSM_INPUT_DATA_CONFIG={\"test\":{\"RecordWrapperType\":\"None\",\"S3DistributionType\":\"FullyReplicated\",\"TrainingInputMode\":\"File\"},\"train\":{\"RecordWrapperType\":\"None\",\"S3DistributionType\":\"FullyReplicated\",\"TrainingInputMode\":\"File\"}}\u001b[0m\n",
      "\u001b[34mSM_OUTPUT_DATA_DIR=/opt/ml/output/data\u001b[0m\n",
      "\u001b[34mSM_CHANNELS=[\"test\",\"train\"]\u001b[0m\n",
      "\u001b[34mSM_CURRENT_HOST=algo-1\u001b[0m\n",
      "\u001b[34mSM_MODULE_NAME=train_horovod\u001b[0m\n",
      "\u001b[34mSM_LOG_LEVEL=20\u001b[0m\n",
      "\u001b[34mSM_FRAMEWORK_MODULE=sagemaker_pytorch_container.training:main\u001b[0m\n",
      "\u001b[34mSM_INPUT_DIR=/opt/ml/input\u001b[0m\n",
      "\u001b[34mSM_INPUT_CONFIG_DIR=/opt/ml/input/config\u001b[0m\n",
      "\u001b[34mSM_OUTPUT_DIR=/opt/ml/output\u001b[0m\n",
      "\u001b[34mSM_NUM_CPUS=32\u001b[0m\n",
      "\u001b[34mSM_NUM_GPUS=4\u001b[0m\n",
      "\u001b[34mSM_MODEL_DIR=/opt/ml/model\u001b[0m\n",
      "\u001b[34mSM_MODULE_DIR=s3://sagemaker-us-east-1-057716757052/pytorch-training-2022-05-22-11-20-49-885/source/sourcedir.tar.gz\u001b[0m\n",
      "\u001b[34mSM_TRAINING_ENV={\"additional_framework_parameters\":{},\"channel_input_dirs\":{\"test\":\"/opt/ml/input/data/test\",\"train\":\"/opt/ml/input/data/train\"},\"current_host\":\"algo-1\",\"framework_module\":\"sagemaker_pytorch_container.training:main\",\"hosts\":[\"algo-1\"],\"hyperparameters\":{\"batch_size\":256,\"dropout\":0.0,\"epochs\":10,\"factor_num\":32,\"lr\":0.001,\"num_layers\":3,\"num_ng\":4,\"test_num_ng\":99,\"top_k\":10},\"input_config_dir\":\"/opt/ml/input/config\",\"input_data_config\":{\"test\":{\"RecordWrapperType\":\"None\",\"S3DistributionType\":\"FullyReplicated\",\"TrainingInputMode\":\"File\"},\"train\":{\"RecordWrapperType\":\"None\",\"S3DistributionType\":\"FullyReplicated\",\"TrainingInputMode\":\"File\"}},\"input_dir\":\"/opt/ml/input\",\"is_master\":true,\"job_name\":\"pytorch-training-2022-05-22-11-20-49-885\",\"log_level\":20,\"master_hostname\":\"algo-1\",\"model_dir\":\"/opt/ml/model\",\"module_dir\":\"s3://sagemaker-us-east-1-057716757052/pytorch-training-2022-05-22-11-20-49-885/source/sourcedir.tar.gz\",\"module_name\":\"train_horovod\",\"network_interface_name\":\"eth0\",\"num_cpus\":32,\"num_gpus\":4,\"output_data_dir\":\"/opt/ml/output/data\",\"output_dir\":\"/opt/ml/output\",\"output_intermediate_dir\":\"/opt/ml/output/intermediate\",\"resource_config\":{\"current_group_name\":\"homogeneousCluster\",\"current_host\":\"algo-1\",\"current_instance_type\":\"ml.p3.8xlarge\",\"hosts\":[\"algo-1\"],\"instance_groups\":[{\"hosts\":[\"algo-1\"],\"instance_group_name\":\"homogeneousCluster\",\"instance_type\":\"ml.p3.8xlarge\"}],\"network_interface_name\":\"eth0\"},\"user_entry_point\":\"train_horovod.py\"}\u001b[0m\n",
      "\u001b[34mSM_USER_ARGS=[\"--batch_size\",\"256\",\"--dropout\",\"0.0\",\"--epochs\",\"10\",\"--factor_num\",\"32\",\"--lr\",\"0.001\",\"--num_layers\",\"3\",\"--num_ng\",\"4\",\"--test_num_ng\",\"99\",\"--top_k\",\"10\"]\u001b[0m\n",
      "\u001b[34mSM_OUTPUT_INTERMEDIATE_DIR=/opt/ml/output/intermediate\u001b[0m\n",
      "\u001b[34mSM_CHANNEL_TEST=/opt/ml/input/data/test\u001b[0m\n",
      "\u001b[34mSM_CHANNEL_TRAIN=/opt/ml/input/data/train\u001b[0m\n",
      "\u001b[34mSM_HP_BATCH_SIZE=256\u001b[0m\n",
      "\u001b[34mSM_HP_DROPOUT=0.0\u001b[0m\n",
      "\u001b[34mSM_HP_EPOCHS=10\u001b[0m\n",
      "\u001b[34mSM_HP_FACTOR_NUM=32\u001b[0m\n",
      "\u001b[34mSM_HP_LR=0.001\u001b[0m\n",
      "\u001b[34mSM_HP_NUM_LAYERS=3\u001b[0m\n",
      "\u001b[34mSM_HP_NUM_NG=4\u001b[0m\n",
      "\u001b[34mSM_HP_TEST_NUM_NG=99\u001b[0m\n",
      "\u001b[34mSM_HP_TOP_K=10\u001b[0m\n",
      "\u001b[34mPYTHONPATH=/opt/ml/code:/opt/conda/bin:/opt/conda/lib/python36.zip:/opt/conda/lib/python3.6:/opt/conda/lib/python3.6/lib-dynload:/opt/conda/lib/python3.6/site-packages\u001b[0m\n",
      "\u001b[34mInvoking script with the following command:\u001b[0m\n",
      "\u001b[34m/opt/conda/bin/python3.6 train_horovod.py --batch_size 256 --dropout 0.0 --epochs 10 --factor_num 32 --lr 0.001 --num_layers 3 --num_ng 4 --test_num_ng 99 --top_k 10\u001b[0m\n",
      "\u001b[34margs: \n",
      " Namespace(batch_size=256, dropout=0.0, epochs=10, factor_num=32, gpu='0', lr=0.001, model_dir='/opt/ml/model', num_layers=3, num_ng=4, out=True, seed=42, test_data_dir='/opt/ml/input/data/test', test_num_ng=99, top_k=10, train_data_dir='/opt/ml/input/data/train')\u001b[0m\n",
      "\u001b[34mdevice:  cuda\u001b[0m\n",
      "\u001b[34margs.train_data_dir:  /opt/ml/input/data/train\u001b[0m\n",
      "\u001b[34margs.test_data_dir:  /opt/ml/input/data/test\u001b[0m\n",
      "\u001b[34margs.model_dir:  /opt/ml/model\u001b[0m\n",
      "\u001b[34mGet train data sampler and data loader\u001b[0m\n",
      "\u001b[34m=====> train data loading <===========\u001b[0m\n",
      "\u001b[34m=====> create train data loader <===========\u001b[0m\n",
      "\u001b[34mGet test data sampler and data loader\u001b[0m\n",
      "\u001b[34m=====> test data loading <===========\u001b[0m\n",
      "\u001b[34m=====> create test data loader <===========\u001b[0m\n",
      "\u001b[34mProcesses 4970845/4970845 (100%) of train data\u001b[0m\n",
      "\u001b[34mProcesses 604000/604000 (100%) of test data\u001b[0m\n",
      "\u001b[34mGpu count: 4\u001b[0m\n",
      "\u001b[34mPretrained model is NOT used\u001b[0m\n",
      "\u001b[34m=====> Staring Traiing <===========\u001b[0m\n",
      "\u001b[34m[2022-05-22 11:27:49.212 algo-1:32 INFO utils.py:27] RULE_JOB_STOP_SIGNAL_FILENAME: None\u001b[0m\n",
      "\u001b[34m[2022-05-22 11:27:49.333 algo-1:32 INFO profiler_config_parser.py:102] User has disabled profiler.\u001b[0m\n",
      "\u001b[34m[2022-05-22 11:27:49.334 algo-1:32 INFO json_config.py:91] Creating hook from json_config at /opt/ml/input/config/debughookconfig.json.\u001b[0m\n",
      "\u001b[34m[2022-05-22 11:27:49.334 algo-1:32 INFO hook.py:201] tensorboard_dir has not been set for the hook. SMDebug will not be exporting tensorboard summaries.\u001b[0m\n",
      "\u001b[34m[2022-05-22 11:27:49.335 algo-1:32 INFO hook.py:255] Saving to /opt/ml/output/tensors\u001b[0m\n",
      "\u001b[34m[2022-05-22 11:27:49.335 algo-1:32 INFO state_store.py:77] The checkpoint config file /opt/ml/input/config/checkpointconfig.json does not exist.\u001b[0m\n",
      "\u001b[34m[2022-05-22 11:27:50.935 algo-1:32 INFO hook.py:591] name:module.embed_user_GMF.weight count_params:193280\u001b[0m\n",
      "\u001b[34m[2022-05-22 11:27:50.936 algo-1:32 INFO hook.py:591] name:module.embed_item_GMF.weight count_params:118592\u001b[0m\n",
      "\u001b[34m[2022-05-22 11:27:50.936 algo-1:32 INFO hook.py:591] name:module.embed_user_MLP.weight count_params:773120\u001b[0m\n",
      "\u001b[34m[2022-05-22 11:27:50.936 algo-1:32 INFO hook.py:591] name:module.embed_item_MLP.weight count_params:474368\u001b[0m\n",
      "\u001b[34m[2022-05-22 11:27:50.936 algo-1:32 INFO hook.py:591] name:module.MLP_layers.1.weight count_params:32768\u001b[0m\n",
      "\u001b[34m[2022-05-22 11:27:50.936 algo-1:32 INFO hook.py:591] name:module.MLP_layers.1.bias count_params:128\u001b[0m\n",
      "\u001b[34m[2022-05-22 11:27:50.937 algo-1:32 INFO hook.py:591] name:module.MLP_layers.4.weight count_params:8192\u001b[0m\n",
      "\u001b[34m[2022-05-22 11:27:50.937 algo-1:32 INFO hook.py:591] name:module.MLP_layers.4.bias count_params:64\u001b[0m\n",
      "\u001b[34m[2022-05-22 11:27:50.937 algo-1:32 INFO hook.py:591] name:module.MLP_layers.7.weight count_params:2048\u001b[0m\n",
      "\u001b[34m[2022-05-22 11:27:50.937 algo-1:32 INFO hook.py:591] name:module.MLP_layers.7.bias count_params:32\u001b[0m\n",
      "\u001b[34m[2022-05-22 11:27:50.937 algo-1:32 INFO hook.py:591] name:module.predict_layer.weight count_params:64\u001b[0m\n",
      "\u001b[34m[2022-05-22 11:27:50.937 algo-1:32 INFO hook.py:591] name:module.predict_layer.bias count_params:1\u001b[0m\n",
      "\u001b[34m[2022-05-22 11:27:50.937 algo-1:32 INFO hook.py:593] Total Trainable Params: 1602657\u001b[0m\n",
      "\u001b[34m[2022-05-22 11:27:50.937 algo-1:32 INFO hook.py:425] Monitoring the collections: losses\u001b[0m\n",
      "\u001b[34m[2022-05-22 11:27:50.940 algo-1:32 INFO hook.py:488] Hook is writing from the hook with pid: 32\u001b[0m\n",
      "\u001b[34malgo-1:32:32 [0] ofi_init:1136 NCCL WARN NET/OFI Only EFA provider is supported\u001b[0m\n",
      "\u001b[34mNCCL version 2.7.8+cuda11.1\u001b[0m\n",
      "\u001b[34mlen(test_loader.sampler):  604000\u001b[0m\n",
      "\u001b[34mTest set: Average HR: 0.1103, NDCG: 0.05%\u001b[0m\n",
      "\u001b[34mThe time elapse of epoch 000 is: 00: 06: 09\u001b[0m\n",
      "\u001b[34mHR=0.110; #011 NDCG=0.050;\u001b[0m\n",
      "\u001b[34mbest_hr:  0\u001b[0m\n",
      "\u001b[34mthe model is saved at /opt/ml/model/NeuMF-end.pth\u001b[0m\n",
      "\u001b[34mEnd. Best epoch 000: HR = 0.110, NDCG = 0.050\u001b[0m\n",
      "\u001b[34mlen(test_loader.sampler):  604000\u001b[0m\n",
      "\u001b[34mTest set: Average HR: 0.1096, NDCG: 0.05%\u001b[0m\n",
      "\u001b[34mThe time elapse of epoch 001 is: 00: 06: 02\u001b[0m\n",
      "\u001b[34mHR=0.110; #011 NDCG=0.050;\u001b[0m\n",
      "\u001b[34mbest_hr:  0.11026490066225166\u001b[0m\n",
      "\u001b[34mEnd. Best epoch 000: HR = 0.110, NDCG = 0.050\u001b[0m\n",
      "\u001b[34mlen(test_loader.sampler):  604000\u001b[0m\n",
      "\u001b[34mTest set: Average HR: 0.1081, NDCG: 0.05%\u001b[0m\n",
      "\u001b[34mThe time elapse of epoch 002 is: 00: 06: 02\u001b[0m\n",
      "\u001b[34mHR=0.108; #011 NDCG=0.050;\u001b[0m\n",
      "\u001b[34mbest_hr:  0.11026490066225166\u001b[0m\n",
      "\u001b[34mEnd. Best epoch 000: HR = 0.110, NDCG = 0.050\u001b[0m\n",
      "\u001b[34mlen(test_loader.sampler):  604000\u001b[0m\n",
      "\u001b[34mTest set: Average HR: 0.1086, NDCG: 0.05%\u001b[0m\n",
      "\u001b[34mThe time elapse of epoch 003 is: 00: 06: 01\u001b[0m\n",
      "\u001b[34mHR=0.109; #011 NDCG=0.049;\u001b[0m\n",
      "\u001b[34mbest_hr:  0.11026490066225166\u001b[0m\n",
      "\u001b[34mEnd. Best epoch 000: HR = 0.110, NDCG = 0.050\u001b[0m\n"
     ]
    }
   ],
   "source": [
    "%%time\n",
    "\n",
    "host_estimator.logs()"
   ]
  },
  {
   "cell_type": "markdown",
   "metadata": {},
   "source": [
    "# 4. 실험 결과 보기"
   ]
  },
  {
   "cell_type": "markdown",
   "metadata": {},
   "source": [
    "\n",
    "위의 실험한 결과를 확인 합니다.\n",
    "- 각각의 훈련잡의 시도에 대한 훈련 사용 데이터, 모델 입력 하이퍼 파라미터, 모델 평가 지표, 모델 아티펙트 결과 위치 등의 확인이 가능합니다.\n",
    "- **아래의 모든 내용은 SageMaker Studio 를 통해서 직관적으로 확인이 가능합니다.**"
   ]
  },
  {
   "cell_type": "code",
   "execution_count": null,
   "metadata": {},
   "outputs": [],
   "source": [
    "from sagemaker.analytics import ExperimentAnalytics\n",
    "import pandas as pd\n",
    "pd.options.display.max_columns = 50\n",
    "pd.options.display.max_rows = 5\n",
    "pd.options.display.max_colwidth = 50\n",
    "\n",
    "search_expression = {\n",
    "    \"Filters\": [\n",
    "        {\n",
    "            \"Name\": \"DisplayName\",\n",
    "            \"Operator\": \"Equals\",\n",
    "            \"Value\": \"Training\",\n",
    "        }\n",
    "    ],\n",
    "}\n",
    "\n",
    "\n",
    "trial_component_analytics = ExperimentAnalytics(\n",
    "    sagemaker_session= sagemaker_session,\n",
    "    experiment_name= experiment_name,\n",
    "    search_expression=search_expression,\n",
    ")\n",
    "\n",
    "trial_component_analytics.dataframe()"
   ]
  },
  {
   "cell_type": "markdown",
   "metadata": {},
   "source": [
    "### 모델 평가 지표에 순서에 따른 시도 보기\n",
    "- 아래는 모델 평가 지표에 따른 순서로 보여주기 입니다."
   ]
  },
  {
   "cell_type": "code",
   "execution_count": null,
   "metadata": {},
   "outputs": [],
   "source": [
    "\n",
    "trial_component_training_analytics = ExperimentAnalytics(\n",
    "    sagemaker_session= sagemaker_session,\n",
    "    experiment_name= experiment_name,\n",
    "    search_expression=search_expression,\n",
    "    sort_by=\"metrics.HR.max\",        \n",
    "    sort_order=\"Descending\",\n",
    "    metric_names=[\"HR\"],    \n",
    "    parameter_names=[\"epochs\", \"batch_size\", \"dropout\", \"factor_num\", \n",
    "                     \"lr\", \"num_layers\" ,\"num_ng\", \"test_num_ng\", \"top_k\",\n",
    "                    ],\n",
    ")\n",
    "\n",
    "trial_component_training_analytics.dataframe()"
   ]
  },
  {
   "cell_type": "markdown",
   "metadata": {},
   "source": [
    "# 5. 모델 아티펙트 저장\n",
    "- S3 에 저장된 모델 아티펙트를 저장하여 추론시 사용합니다."
   ]
  },
  {
   "cell_type": "code",
   "execution_count": null,
   "metadata": {},
   "outputs": [],
   "source": [
    "horovod_artifact_path = host_estimator.model_data\n",
    "print(\"horovod_artifact_path: \", horovod_artifact_path)\n",
    "\n",
    "%store horovod_artifact_path"
   ]
  },
  {
   "cell_type": "markdown",
   "metadata": {},
   "source": [
    "기타 변수 저장"
   ]
  },
  {
   "cell_type": "code",
   "execution_count": null,
   "metadata": {},
   "outputs": [],
   "source": [
    "%store bucket \n",
    "%store prefix"
   ]
  },
  {
   "cell_type": "code",
   "execution_count": null,
   "metadata": {},
   "outputs": [],
   "source": []
  },
  {
   "cell_type": "code",
   "execution_count": null,
   "metadata": {},
   "outputs": [],
   "source": []
  },
  {
   "cell_type": "code",
   "execution_count": null,
   "metadata": {},
   "outputs": [],
   "source": []
  }
 ],
 "metadata": {
  "kernelspec": {
   "display_name": "conda_python3",
   "language": "python",
   "name": "conda_python3"
  },
  "language_info": {
   "codemirror_mode": {
    "name": "ipython",
    "version": 3
   },
   "file_extension": ".py",
   "mimetype": "text/x-python",
   "name": "python",
   "nbconvert_exporter": "python",
   "pygments_lexer": "ipython3",
   "version": "3.6.13"
  },
  "notice": "Copyright 2018 Amazon.com, Inc. or its affiliates. All Rights Reserved.  Licensed under the Apache License, Version 2.0 (the \"License\"). You may not use this file except in compliance with the License. A copy of the License is located at http://aws.amazon.com/apache2.0/ or in the \"license\" file accompanying this file. This file is distributed on an \"AS IS\" BASIS, WITHOUT WARRANTIES OR CONDITIONS OF ANY KIND, either express or implied. See the License for the specific language governing permissions and limitations under the License."
 },
 "nbformat": 4,
 "nbformat_minor": 4
}
