{
 "cells": [
  {
   "cell_type": "markdown",
   "id": "5ab8c7d4",
   "metadata": {},
   "source": [
    "# [Module 1.1] 로컬 스크래치 훈련 (SageMaker 사용 안함)\n",
    "\n",
    "### 본 워크샵의 모든 노트북은 `conda_python3` 여기에서 작업 합니다.\n",
    "\n",
    "이 노트북은 아래와 같은 작업을 합니다.\n",
    "- 기본 환경 세팅\n",
    "\n",
    "## 참고:\n",
    "- 세이지 메이커로 파이토치 사용 --> [Use PyTorch with the SageMaker Python SDK](https://sagemaker.readthedocs.io/en/stable/frameworks/pytorch/using_pytorch.html)\n",
    "\n",
    "---"
   ]
  },
  {
   "cell_type": "markdown",
   "id": "d9165ea7",
   "metadata": {},
   "source": [
    "# 1. 환경 셋업"
   ]
  },
  {
   "cell_type": "code",
   "execution_count": 1,
   "id": "331dc20b",
   "metadata": {},
   "outputs": [],
   "source": [
    "%load_ext autoreload\n",
    "%autoreload 2\n",
    "\n",
    "import sys\n",
    "sys.path.append('./src')"
   ]
  },
  {
   "cell_type": "code",
   "execution_count": 2,
   "id": "35a9da9f",
   "metadata": {},
   "outputs": [],
   "source": [
    "import os\n",
    "import time\n",
    "import argparse\n",
    "import numpy as np\n",
    "\n",
    "import torch\n",
    "import torch.nn as nn\n",
    "import torch.optim as optim\n",
    "import torch.utils.data as data\n",
    "import torch.backends.cudnn as cudnn\n",
    "from tensorboardX import SummaryWriter\n",
    "\n",
    "import pandas as pd\n",
    "from IPython.display import display as dp\n",
    "\n",
    "### 커스텀 라이브러리\n",
    "import config \n",
    "import model \n",
    "import evaluate \n",
    "import data_utils \n",
    "\n",
    "# import src.model as model\n",
    "# import src.evaluate as evaluate\n",
    "# import src.data_utils as data_utils"
   ]
  },
  {
   "cell_type": "markdown",
   "id": "c90ff506",
   "metadata": {},
   "source": [
    "# 2. 데이터 확인"
   ]
  },
  {
   "cell_type": "markdown",
   "id": "4b4e82d3",
   "metadata": {},
   "source": [
    "## 2.1. Raw 파일 확인\n",
    "- config.py 파일 확인 요망"
   ]
  },
  {
   "cell_type": "code",
   "execution_count": 4,
   "id": "173ab7ad",
   "metadata": {},
   "outputs": [
    {
     "name": "stdout",
     "output_type": "stream",
     "text": [
      "0\t25\t5\t978824351\n",
      "1\t133\t3\t978300174\n",
      "2\t207\t4\t978298504\n",
      "3\t208\t4\t978294282\n",
      "4\t222\t2\t978246585\n"
     ]
    }
   ],
   "source": [
    "! head -n5 {config.test_rating}"
   ]
  },
  {
   "cell_type": "code",
   "execution_count": 5,
   "id": "11f94509",
   "metadata": {},
   "outputs": [
    {
     "name": "stdout",
     "output_type": "stream",
     "text": [
      "(0,25)\t1064\t174\t2791\t3373\t269\t2678\t1902\t3641\t1216\t915\t3672\t2803\t2344\t986\t3217\t2824\t2598\t464\t2340\t1952\t1855\t1353\t1547\t3487\t3293\t1541\t2414\t2728\t340\t1421\t1963\t2545\t972\t487\t3463\t2727\t1135\t3135\t128\t175\t2423\t1974\t2515\t3278\t3079\t1527\t2182\t1018\t2800\t1830\t1539\t617\t247\t3448\t1699\t1420\t2487\t198\t811\t1010\t1423\t2840\t1770\t881\t1913\t1803\t1734\t3326\t1617\t224\t3352\t1869\t1182\t1331\t336\t2517\t1721\t3512\t3656\t273\t1026\t1991\t2190\t998\t3386\t3369\t185\t2822\t864\t2854\t3067\t58\t2551\t2333\t2688\t3703\t1300\t1924\t3118\n"
     ]
    }
   ],
   "source": [
    "! head -n1 {config.test_negative}"
   ]
  },
  {
   "cell_type": "markdown",
   "id": "df434aeb",
   "metadata": {},
   "source": [
    "## 2.2. 훈련 및 검증용 데이터로 확인"
   ]
  },
  {
   "cell_type": "code",
   "execution_count": 7,
   "id": "b21f9491",
   "metadata": {},
   "outputs": [],
   "source": [
    "train_data, test_data, user_num ,item_num, train_mat = data_utils.load_all(test_num=100)\n",
    "\n",
    "\n"
   ]
  },
  {
   "cell_type": "code",
   "execution_count": 8,
   "id": "956137c3",
   "metadata": {},
   "outputs": [
    {
     "name": "stdout",
     "output_type": "stream",
     "text": [
      "train sahpe:  (994169, 2)\n",
      "test sahpe:  (604000, 2)\n",
      "user_num: 6040, item_num: 3706\n",
      "[[0, 32], [0, 34], [0, 4], [0, 35], [0, 30]]\n"
     ]
    }
   ],
   "source": [
    "import numpy as np\n",
    "print(\"train sahpe: \", np.asarray(train_data).shape)\n",
    "print(\"test sahpe: \", np.asarray(test_data).shape)\n",
    "print(f\"user_num: {user_num}, item_num: {item_num}\")\n",
    "print(train_data[0:5])\n"
   ]
  },
  {
   "cell_type": "markdown",
   "id": "608a10dd",
   "metadata": {},
   "source": [
    "### 훈련 데이터"
   ]
  },
  {
   "cell_type": "code",
   "execution_count": 9,
   "id": "1e157e6a",
   "metadata": {},
   "outputs": [
    {
     "name": "stdout",
     "output_type": "stream",
     "text": [
      "train_df shape:  (994169, 2)\n",
      "train_df info:  user    6040\n",
      "item    3704\n",
      "dtype: int64\n"
     ]
    },
    {
     "data": {
      "text/html": [
       "<div>\n",
       "<style scoped>\n",
       "    .dataframe tbody tr th:only-of-type {\n",
       "        vertical-align: middle;\n",
       "    }\n",
       "\n",
       "    .dataframe tbody tr th {\n",
       "        vertical-align: top;\n",
       "    }\n",
       "\n",
       "    .dataframe thead th {\n",
       "        text-align: right;\n",
       "    }\n",
       "</style>\n",
       "<table border=\"1\" class=\"dataframe\">\n",
       "  <thead>\n",
       "    <tr style=\"text-align: right;\">\n",
       "      <th></th>\n",
       "      <th>user</th>\n",
       "      <th>item</th>\n",
       "    </tr>\n",
       "  </thead>\n",
       "  <tbody>\n",
       "    <tr>\n",
       "      <th>42</th>\n",
       "      <td>0</td>\n",
       "      <td>0</td>\n",
       "    </tr>\n",
       "    <tr>\n",
       "      <th>21</th>\n",
       "      <td>0</td>\n",
       "      <td>1</td>\n",
       "    </tr>\n",
       "    <tr>\n",
       "      <th>26</th>\n",
       "      <td>0</td>\n",
       "      <td>2</td>\n",
       "    </tr>\n",
       "    <tr>\n",
       "      <th>45</th>\n",
       "      <td>0</td>\n",
       "      <td>3</td>\n",
       "    </tr>\n",
       "    <tr>\n",
       "      <th>2</th>\n",
       "      <td>0</td>\n",
       "      <td>4</td>\n",
       "    </tr>\n",
       "  </tbody>\n",
       "</table>\n",
       "</div>"
      ],
      "text/plain": [
       "    user  item\n",
       "42     0     0\n",
       "21     0     1\n",
       "26     0     2\n",
       "45     0     3\n",
       "2      0     4"
      ]
     },
     "execution_count": 9,
     "metadata": {},
     "output_type": "execute_result"
    }
   ],
   "source": [
    "train_data_df = pd.DataFrame(train_data, columns=['user','item'])\n",
    "print(\"train_df shape: \", train_data_df.shape)\n",
    "print(\"train_df info: \", train_data_df.nunique())\n",
    "train_data_df.sort_values(by=['user','item']).head()"
   ]
  },
  {
   "cell_type": "code",
   "execution_count": 10,
   "id": "7cb0acfd",
   "metadata": {},
   "outputs": [
    {
     "data": {
      "text/html": [
       "<div>\n",
       "<style scoped>\n",
       "    .dataframe tbody tr th:only-of-type {\n",
       "        vertical-align: middle;\n",
       "    }\n",
       "\n",
       "    .dataframe tbody tr th {\n",
       "        vertical-align: top;\n",
       "    }\n",
       "\n",
       "    .dataframe thead th {\n",
       "        text-align: right;\n",
       "    }\n",
       "</style>\n",
       "<table border=\"1\" class=\"dataframe\">\n",
       "  <thead>\n",
       "    <tr style=\"text-align: right;\">\n",
       "      <th></th>\n",
       "      <th>item</th>\n",
       "    </tr>\n",
       "    <tr>\n",
       "      <th>user</th>\n",
       "      <th></th>\n",
       "    </tr>\n",
       "  </thead>\n",
       "  <tbody>\n",
       "    <tr>\n",
       "      <th>0</th>\n",
       "      <td>52</td>\n",
       "    </tr>\n",
       "    <tr>\n",
       "      <th>1</th>\n",
       "      <td>128</td>\n",
       "    </tr>\n",
       "    <tr>\n",
       "      <th>2</th>\n",
       "      <td>50</td>\n",
       "    </tr>\n",
       "    <tr>\n",
       "      <th>3</th>\n",
       "      <td>20</td>\n",
       "    </tr>\n",
       "    <tr>\n",
       "      <th>4</th>\n",
       "      <td>197</td>\n",
       "    </tr>\n",
       "  </tbody>\n",
       "</table>\n",
       "</div>"
      ],
      "text/plain": [
       "      item\n",
       "user      \n",
       "0       52\n",
       "1      128\n",
       "2       50\n",
       "3       20\n",
       "4      197"
      ]
     },
     "execution_count": 10,
     "metadata": {},
     "output_type": "execute_result"
    }
   ],
   "source": [
    "train_data_df.groupby('user').count().head()"
   ]
  },
  {
   "cell_type": "markdown",
   "id": "1c6bbc3e",
   "metadata": {},
   "source": [
    "### 검증 데이터"
   ]
  },
  {
   "cell_type": "code",
   "execution_count": 11,
   "id": "c71bb701",
   "metadata": {},
   "outputs": [
    {
     "data": {
      "text/html": [
       "<div>\n",
       "<style scoped>\n",
       "    .dataframe tbody tr th:only-of-type {\n",
       "        vertical-align: middle;\n",
       "    }\n",
       "\n",
       "    .dataframe tbody tr th {\n",
       "        vertical-align: top;\n",
       "    }\n",
       "\n",
       "    .dataframe thead th {\n",
       "        text-align: right;\n",
       "    }\n",
       "</style>\n",
       "<table border=\"1\" class=\"dataframe\">\n",
       "  <thead>\n",
       "    <tr style=\"text-align: right;\">\n",
       "      <th></th>\n",
       "      <th>user</th>\n",
       "      <th>item</th>\n",
       "    </tr>\n",
       "  </thead>\n",
       "  <tbody>\n",
       "    <tr>\n",
       "      <th>0</th>\n",
       "      <td>0</td>\n",
       "      <td>25</td>\n",
       "    </tr>\n",
       "    <tr>\n",
       "      <th>1</th>\n",
       "      <td>0</td>\n",
       "      <td>1064</td>\n",
       "    </tr>\n",
       "    <tr>\n",
       "      <th>2</th>\n",
       "      <td>0</td>\n",
       "      <td>174</td>\n",
       "    </tr>\n",
       "    <tr>\n",
       "      <th>3</th>\n",
       "      <td>0</td>\n",
       "      <td>2791</td>\n",
       "    </tr>\n",
       "    <tr>\n",
       "      <th>4</th>\n",
       "      <td>0</td>\n",
       "      <td>3373</td>\n",
       "    </tr>\n",
       "  </tbody>\n",
       "</table>\n",
       "</div>"
      ],
      "text/plain": [
       "   user  item\n",
       "0     0    25\n",
       "1     0  1064\n",
       "2     0   174\n",
       "3     0  2791\n",
       "4     0  3373"
      ]
     },
     "metadata": {},
     "output_type": "display_data"
    },
    {
     "data": {
      "text/html": [
       "<div>\n",
       "<style scoped>\n",
       "    .dataframe tbody tr th:only-of-type {\n",
       "        vertical-align: middle;\n",
       "    }\n",
       "\n",
       "    .dataframe tbody tr th {\n",
       "        vertical-align: top;\n",
       "    }\n",
       "\n",
       "    .dataframe thead th {\n",
       "        text-align: right;\n",
       "    }\n",
       "</style>\n",
       "<table border=\"1\" class=\"dataframe\">\n",
       "  <thead>\n",
       "    <tr style=\"text-align: right;\">\n",
       "      <th></th>\n",
       "      <th>item</th>\n",
       "    </tr>\n",
       "    <tr>\n",
       "      <th>user</th>\n",
       "      <th></th>\n",
       "    </tr>\n",
       "  </thead>\n",
       "  <tbody>\n",
       "    <tr>\n",
       "      <th>0</th>\n",
       "      <td>100</td>\n",
       "    </tr>\n",
       "    <tr>\n",
       "      <th>1</th>\n",
       "      <td>100</td>\n",
       "    </tr>\n",
       "    <tr>\n",
       "      <th>2</th>\n",
       "      <td>100</td>\n",
       "    </tr>\n",
       "    <tr>\n",
       "      <th>3</th>\n",
       "      <td>100</td>\n",
       "    </tr>\n",
       "    <tr>\n",
       "      <th>4</th>\n",
       "      <td>100</td>\n",
       "    </tr>\n",
       "  </tbody>\n",
       "</table>\n",
       "</div>"
      ],
      "text/plain": [
       "      item\n",
       "user      \n",
       "0      100\n",
       "1      100\n",
       "2      100\n",
       "3      100\n",
       "4      100"
      ]
     },
     "metadata": {},
     "output_type": "display_data"
    }
   ],
   "source": [
    "test_data_df = pd.DataFrame(test_data, columns=['user','item'])\n",
    "dp(test_data_df.head())\n",
    "dp(test_data_df.groupby('user').count().head())"
   ]
  },
  {
   "cell_type": "markdown",
   "id": "dc073fcf",
   "metadata": {},
   "source": [
    "# 3. 모델 훈련"
   ]
  },
  {
   "cell_type": "markdown",
   "id": "313659ca",
   "metadata": {},
   "source": [
    "## 3.1. 파라미터 설정"
   ]
  },
  {
   "cell_type": "markdown",
   "id": "8883c625",
   "metadata": {},
   "source": [
    "## 모델의 하이퍼파라미터 정의\n",
    "- 하아퍼 파라미터 오브젝트 이름을 args 로 생성\n",
    "    - 추후 SageMaker의 Script Mode 사용사에 args 오브젝트가 사용되기에, 이름을 맞추기 위해서 같은 이름을 사용 함\n",
    "- 아래 파라미터는 로직 확인 용이기에, 훈련이 빨리 끝나기 위한 파라미터 값을 설정 함(에; learning rate)    "
   ]
  },
  {
   "cell_type": "code",
   "execution_count": 12,
   "id": "26886169",
   "metadata": {},
   "outputs": [
    {
     "name": "stdout",
     "output_type": "stream",
     "text": [
      "# of epochs:  1\n"
     ]
    }
   ],
   "source": [
    "class Params:\n",
    "    def __init__(self):\n",
    "        self.epochs = 1        \n",
    "        self.num_ng = 4\n",
    "        self.batch_size = 256\n",
    "        self.test_num_ng = 99\n",
    "        self.factor_num = 32\n",
    "        self.num_layers = 3\n",
    "        self.dropout = 0.0\n",
    "        self.lr = 0.001\n",
    "        self.top_k = 10\n",
    "        self.out = True\n",
    "        self.gpu = \"0\"\n",
    "        \n",
    "\n",
    "                \n",
    "args = Params()\n",
    "print(\"# of epochs: \", args.epochs)"
   ]
  },
  {
   "cell_type": "markdown",
   "id": "31434c93",
   "metadata": {},
   "source": [
    "## 3.2. 데이터 셋 및 데이터 로더 정의"
   ]
  },
  {
   "cell_type": "code",
   "execution_count": 13,
   "id": "3bbcfca6",
   "metadata": {},
   "outputs": [],
   "source": [
    "# construct the train and test datasets\n",
    "train_dataset = data_utils.NCFData(\n",
    "\t\ttrain_data, item_num, train_mat, args.num_ng, True)\n",
    "test_dataset = data_utils.NCFData(\n",
    "\t\ttest_data, item_num, train_mat, 0, False)\n",
    "train_loader = data.DataLoader(train_dataset,\n",
    "\t\tbatch_size=args.batch_size, shuffle=True, num_workers=4)\n",
    "test_loader = data.DataLoader(test_dataset,\n",
    "\t\tbatch_size=args.test_num_ng+1, shuffle=False, num_workers=0)\n",
    "\n"
   ]
  },
  {
   "cell_type": "markdown",
   "id": "31976bd8",
   "metadata": {},
   "source": [
    "## 3.3. 모델 네트워크 생성"
   ]
  },
  {
   "cell_type": "code",
   "execution_count": 14,
   "id": "c92f6f99",
   "metadata": {},
   "outputs": [
    {
     "data": {
      "text/plain": [
       "NCF(\n",
       "  (embed_user_GMF): Embedding(6040, 32)\n",
       "  (embed_item_GMF): Embedding(3706, 32)\n",
       "  (embed_user_MLP): Embedding(6040, 128)\n",
       "  (embed_item_MLP): Embedding(3706, 128)\n",
       "  (MLP_layers): Sequential(\n",
       "    (0): Dropout(p=0.0, inplace=False)\n",
       "    (1): Linear(in_features=256, out_features=128, bias=True)\n",
       "    (2): ReLU()\n",
       "    (3): Dropout(p=0.0, inplace=False)\n",
       "    (4): Linear(in_features=128, out_features=64, bias=True)\n",
       "    (5): ReLU()\n",
       "    (6): Dropout(p=0.0, inplace=False)\n",
       "    (7): Linear(in_features=64, out_features=32, bias=True)\n",
       "    (8): ReLU()\n",
       "  )\n",
       "  (predict_layer): Linear(in_features=64, out_features=1, bias=True)\n",
       ")"
      ]
     },
     "execution_count": 14,
     "metadata": {},
     "output_type": "execute_result"
    }
   ],
   "source": [
    "########################### CREATE MODEL #################################\n",
    "if config.model == 'NeuMF-pre':\n",
    "\tassert os.path.exists(config.GMF_model_path), 'lack of GMF model'\n",
    "\tassert os.path.exists(config.MLP_model_path), 'lack of MLP model'\n",
    "\tGMF_model = torch.load(config.GMF_model_path)\n",
    "\tMLP_model = torch.load(config.MLP_model_path)\n",
    "else:\n",
    "\tGMF_model = None\n",
    "\tMLP_model = None\n",
    "\n",
    "NCF_model = model.NCF(user_num, item_num, args.factor_num, args.num_layers, \n",
    "\t\t\t\t\t\targs.dropout, config.model, GMF_model, MLP_model)\n",
    "NCF_model.cuda()\n",
    "\n"
   ]
  },
  {
   "cell_type": "markdown",
   "id": "b0dedd50",
   "metadata": {},
   "source": [
    "## 3.4. 손실 함수 및 옵티마이저 정의"
   ]
  },
  {
   "cell_type": "code",
   "execution_count": 15,
   "id": "c8ee0317",
   "metadata": {},
   "outputs": [],
   "source": [
    "loss_function = nn.BCEWithLogitsLoss()\n",
    "\n",
    "if config.model == 'NeuMF-pre':\n",
    "\toptimizer = optim.SGD(NCF_model.parameters(), lr=args.lr)\n",
    "else:\n",
    "\toptimizer = optim.Adam(NCF_model.parameters(), lr=args.lr)\n",
    "\n"
   ]
  },
  {
   "cell_type": "markdown",
   "id": "fede6ff3",
   "metadata": {},
   "source": [
    "## 3.5 훈련 루프 실행"
   ]
  },
  {
   "cell_type": "code",
   "execution_count": 16,
   "id": "8108558b",
   "metadata": {},
   "outputs": [
    {
     "name": "stdout",
     "output_type": "stream",
     "text": [
      "=====> Staring Traiing <===========\n",
      "The time elapse of epoch 000 is: 00: 02: 10\n",
      "HR: 0.626\tNDCG: 0.364\n",
      "End. Best epoch 000: HR = 0.626, NDCG = 0.364\n"
     ]
    }
   ],
   "source": [
    "print(\"=====> Staring Traiing <===========\")\n",
    "count, best_hr = 0, 0\n",
    "for epoch in range(args.epochs):\n",
    "    NCF_model.train() # Enable dropout (if have).\n",
    "    start_time = time.time()\n",
    "    train_loader.dataset.ng_sample()\n",
    "\n",
    "    for user, item, label in train_loader:\n",
    "        user = user.cuda()\n",
    "        item = item.cuda()\n",
    "        label = label.float().cuda()\n",
    "\n",
    "        NCF_model.zero_grad()\n",
    "        prediction = NCF_model(user, item)\n",
    "        loss = loss_function(prediction, label)\n",
    "        loss.backward()\n",
    "        optimizer.step()\n",
    "        # writer.add_scalar('data/loss', loss.item(), count)\n",
    "        count += 1\n",
    "\n",
    "    NCF_model.eval()\n",
    "    HR, NDCG = evaluate.metrics(NCF_model, test_loader, args.top_k)\n",
    "\n",
    "    elapsed_time = time.time() - start_time\n",
    "    print(\"The time elapse of epoch {:03d}\".format(epoch) + \" is: \" + \n",
    "            time.strftime(\"%H: %M: %S\", time.gmtime(elapsed_time)))\n",
    "    print(\"HR: {:.3f}\\tNDCG: {:.3f}\".format(np.mean(HR), np.mean(NDCG)))\n",
    "\n",
    "    if HR > best_hr:\n",
    "        best_hr, best_ndcg, best_epoch = HR, NDCG, epoch\n",
    "        if args.out:\n",
    "            if not os.path.exists(config.model_path):\n",
    "                os.mkdir(config.model_path)\n",
    "            torch.save(NCF_model.state_dict(),'{}{}.pth'.format(config.model_path, config.model))\n",
    "\n",
    "            \n",
    "\n",
    "print(\"End. Best epoch {:03d}: HR = {:.3f}, NDCG = {:.3f}\".format(\n",
    "\t\t\t\t\t\t\t\t\tbest_epoch, best_hr, best_ndcg))\n",
    "\n"
   ]
  },
  {
   "cell_type": "markdown",
   "id": "4c24a4eb",
   "metadata": {},
   "source": [
    "# 4. 로컬 추론"
   ]
  },
  {
   "cell_type": "code",
   "execution_count": 15,
   "id": "5a9b0000",
   "metadata": {},
   "outputs": [],
   "source": [
    "from evaluate import predict"
   ]
  },
  {
   "cell_type": "code",
   "execution_count": 16,
   "id": "7da4b9ba",
   "metadata": {},
   "outputs": [
    {
     "data": {
      "text/plain": [
       "[174, 128, 25, 273, 175, 1331, 1064, 464, 1963, 1902]"
      ]
     },
     "execution_count": 16,
     "metadata": {},
     "output_type": "execute_result"
    }
   ],
   "source": [
    "for user, item, label in test_loader:   \n",
    "    user_np = user.detach().cpu().numpy()\n",
    "    item_np = item.detach().cpu().numpy()            \n",
    "    break\n",
    "payload = {'user':user_np.tolist(), 'item':item_np.tolist()}\n",
    "\n",
    "predict(NCF_model, payload, top_k=10)"
   ]
  },
  {
   "cell_type": "markdown",
   "id": "b96686f6",
   "metadata": {},
   "source": [
    "# 5. 훈련 스크립트로 실행"
   ]
  },
  {
   "cell_type": "markdown",
   "id": "7a0fc1a7",
   "metadata": {},
   "source": [
    "## 로컬에서 스크래치 훈련\n",
    "- source/train_lib.py 에는 train(args) 함수가 정의 되어 있습니다.\n",
    "- 이 함수에 인자를 넘기고 훈련을 합니다.\n",
    "- 중요한 단계를 로깅 합니다.\n",
    "    - 훈련 환경 셋업, \n",
    "    - 데이터 준비 및 데이터 로더 생성\n",
    "    - 모델 네트워크 로딩\n",
    "    - 모델 훈련 시작\n",
    "    - 모델 훈련 완료\n",
    "    - 모델 아티펙트 저장"
   ]
  },
  {
   "cell_type": "code",
   "execution_count": 48,
   "id": "fca64009",
   "metadata": {},
   "outputs": [
    {
     "name": "stdout",
     "output_type": "stream",
     "text": [
      "# of epochs:  1\n"
     ]
    }
   ],
   "source": [
    "class ParamsScript:\n",
    "    def __init__(self):\n",
    "        self.epochs = 1   \n",
    "        self.lr = 0.1 # 0.001 오리지널 버전        \n",
    "        self.num_ng = 4\n",
    "        self.batch_size = 256\n",
    "        self.test_num_ng = 99\n",
    "        self.factor_num = 32\n",
    "        self.num_layers = 3\n",
    "        self.dropout = 0.0\n",
    "        self.top_k = 10\n",
    "        self.out = True\n",
    "        self.gpu = \"0\"\n",
    "        self.model_dir = f\"{config.model_path}\"                                       \n",
    "        self.train_data_dir = f\"{config.main_path}\"               \n",
    "        self.test_data_dir = f\"{config.main_path}\"                       \n",
    "\n",
    "                        \n",
    "script_args = ParamsScript()\n",
    "print(\"# of epochs: \", script_args.epochs)"
   ]
  },
  {
   "cell_type": "code",
   "execution_count": 49,
   "id": "a3aa1c18",
   "metadata": {},
   "outputs": [],
   "source": [
    "from train_lib import train"
   ]
  },
  {
   "cell_type": "code",
   "execution_count": 50,
   "id": "7966cc03",
   "metadata": {},
   "outputs": [
    {
     "name": "stdout",
     "output_type": "stream",
     "text": [
      "args.train_data_dir:  ../NCF-Data/\n",
      "args.test_data_dir:  ../NCF-Data/\n",
      "args.model_dir:  ./models/\n",
      "=====> data loading <===========\n",
      "=====> create data loader <===========\n",
      "=====> Staring Traiing <===========\n",
      "The time elapse of epoch 000 is: 00: 02: 10\n",
      "HR: 0.130\tNDCG: 0.064\n",
      "End. Best epoch 000: HR = 0.130, NDCG = 0.064\n",
      "CPU times: user 2min 14s, sys: 9.51 s, total: 2min 24s\n",
      "Wall time: 2min 26s\n"
     ]
    }
   ],
   "source": [
    "%%time \n",
    "\n",
    "train(script_args)"
   ]
  },
  {
   "cell_type": "markdown",
   "id": "b40f8e36",
   "metadata": {},
   "source": [
    "# 6. 훈련된 가중치 로딩하여 추론"
   ]
  },
  {
   "cell_type": "markdown",
   "id": "7554810b",
   "metadata": {},
   "source": [
    "## 6.1. 추론시 사용할 모델 네트워크 설정 저장"
   ]
  },
  {
   "cell_type": "code",
   "execution_count": 20,
   "id": "3ec9a5e4",
   "metadata": {},
   "outputs": [],
   "source": [
    "# import json\n",
    "# from src.common_utils import save_json, load_json\n",
    "\n",
    "# model_config_dict = {\n",
    "#     'user_num': str(user_num),\n",
    "#     'item_num': str(item_num),\n",
    "#     'factor_num' : str(args.factor_num),\n",
    "#     'num_layers' : str(args.num_layers),\n",
    "#     'dropout' : str(args.dropout),\n",
    "#     'model_type': config.model\n",
    "# }\n",
    "\n",
    "# model_config_file = 'model_config.json'\n",
    "# model_config_file_path = os.path.join(config.model_path, model_config_file)\n",
    "\n",
    "# save_json(model_config_file_path, model_config_dict)\n",
    "# # model_config_dict = load_json(model_config_file_path)    \n",
    "# # model_config_dict"
   ]
  },
  {
   "cell_type": "markdown",
   "id": "fb926d3a",
   "metadata": {},
   "source": [
    "## 6.2. 모델 가중치 로딩하여 추론"
   ]
  },
  {
   "cell_type": "code",
   "execution_count": 21,
   "id": "cb383cd4",
   "metadata": {},
   "outputs": [],
   "source": [
    "# from inference import model_fn"
   ]
  },
  {
   "cell_type": "code",
   "execution_count": 22,
   "id": "60347714",
   "metadata": {},
   "outputs": [],
   "source": [
    "# inf_model = model_fn(config.model_path)"
   ]
  },
  {
   "cell_type": "code",
   "execution_count": 23,
   "id": "9664a43b",
   "metadata": {},
   "outputs": [],
   "source": [
    "# predict(inf_model, payload, top_k=10)"
   ]
  },
  {
   "cell_type": "code",
   "execution_count": null,
   "id": "18b18157",
   "metadata": {},
   "outputs": [],
   "source": []
  }
 ],
 "metadata": {
  "kernelspec": {
   "display_name": "conda_python3",
   "language": "python",
   "name": "conda_python3"
  },
  "language_info": {
   "codemirror_mode": {
    "name": "ipython",
    "version": 3
   },
   "file_extension": ".py",
   "mimetype": "text/x-python",
   "name": "python",
   "nbconvert_exporter": "python",
   "pygments_lexer": "ipython3",
   "version": "3.6.13"
  }
 },
 "nbformat": 4,
 "nbformat_minor": 5
}
