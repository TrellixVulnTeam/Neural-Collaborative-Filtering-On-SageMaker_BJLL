{
 "cells": [
  {
   "cell_type": "markdown",
   "id": "6e488eb7",
   "metadata": {},
   "source": [
    "# [Module 0.0] 환경 셋업\n",
    "\n",
    "본 워크샵의 모든 노트북은 `conda_python3` 추가 패키지를 설치하고 모두 이 커널 에서 작업 합니다."
   ]
  },
  {
   "cell_type": "markdown",
   "id": "91ef29ef",
   "metadata": {},
   "source": [
    "# 환경 셋업\n",
    "- conda_python3 커널에 torch==1.8.1 등을 설치합니다.\n",
    "- [중요] 이 버전은 훈련시 파이토치 프레임워크 도커 컨테이너와 버전과 동일 합니다. "
   ]
  },
  {
   "cell_type": "code",
   "execution_count": 3,
   "id": "bdf98cae",
   "metadata": {},
   "outputs": [
    {
     "name": "stdout",
     "output_type": "stream",
     "text": [
      "nvidia-ml-py3==7.352\n",
      "pandas==0.24.2\n",
      "numpy==1.16.6\n",
      "torch==1.8.1\n",
      "torchsummary==1.5.1\n",
      "gensim==3.7.1\n",
      "tensorboardX==1.6 #  (mainly useful when you want to visulize the loss, see https://github.com/lanpa/tensorboard-pytorch)\n"
     ]
    }
   ],
   "source": [
    "requirements_code = '../src/requirements.txt'\n",
    "!pygmentize {requirements_code}"
   ]
  },
  {
   "cell_type": "code",
   "execution_count": 4,
   "id": "83e68522",
   "metadata": {},
   "outputs": [
    {
     "name": "stdout",
     "output_type": "stream",
     "text": [
      "Requirement already satisfied: nvidia-ml-py3==7.352 in /home/ec2-user/anaconda3/envs/python3/lib/python3.6/site-packages (from -r ../src/requirements.txt (line 1)) (7.352.0)\n",
      "Requirement already satisfied: pandas==0.24.2 in /home/ec2-user/anaconda3/envs/python3/lib/python3.6/site-packages (from -r ../src/requirements.txt (line 2)) (0.24.2)\n",
      "Requirement already satisfied: numpy==1.16.6 in /home/ec2-user/anaconda3/envs/python3/lib/python3.6/site-packages (from -r ../src/requirements.txt (line 3)) (1.16.6)\n",
      "Requirement already satisfied: torch==1.8.1 in /home/ec2-user/anaconda3/envs/python3/lib/python3.6/site-packages (from -r ../src/requirements.txt (line 4)) (1.8.1)\n",
      "Requirement already satisfied: torchsummary==1.5.1 in /home/ec2-user/anaconda3/envs/python3/lib/python3.6/site-packages (from -r ../src/requirements.txt (line 5)) (1.5.1)\n",
      "Requirement already satisfied: gensim==3.7.1 in /home/ec2-user/anaconda3/envs/python3/lib/python3.6/site-packages (from -r ../src/requirements.txt (line 6)) (3.7.1)\n",
      "Requirement already satisfied: tensorboardX==1.6 in /home/ec2-user/anaconda3/envs/python3/lib/python3.6/site-packages (from -r ../src/requirements.txt (line 7)) (1.6)\n",
      "Requirement already satisfied: pytz>=2011k in /home/ec2-user/anaconda3/envs/python3/lib/python3.6/site-packages (from pandas==0.24.2->-r ../src/requirements.txt (line 2)) (2021.1)\n",
      "Requirement already satisfied: python-dateutil>=2.5.0 in /home/ec2-user/anaconda3/envs/python3/lib/python3.6/site-packages (from pandas==0.24.2->-r ../src/requirements.txt (line 2)) (2.8.1)\n",
      "Requirement already satisfied: dataclasses in /home/ec2-user/anaconda3/envs/python3/lib/python3.6/site-packages (from torch==1.8.1->-r ../src/requirements.txt (line 4)) (0.8)\n",
      "Requirement already satisfied: typing-extensions in /home/ec2-user/anaconda3/envs/python3/lib/python3.6/site-packages (from torch==1.8.1->-r ../src/requirements.txt (line 4)) (4.0.1)\n",
      "Requirement already satisfied: six>=1.5.0 in /home/ec2-user/anaconda3/envs/python3/lib/python3.6/site-packages (from gensim==3.7.1->-r ../src/requirements.txt (line 6)) (1.15.0)\n",
      "Requirement already satisfied: smart-open>=1.7.0 in /home/ec2-user/anaconda3/envs/python3/lib/python3.6/site-packages (from gensim==3.7.1->-r ../src/requirements.txt (line 6)) (6.0.0)\n",
      "Requirement already satisfied: scipy>=0.18.1 in /home/ec2-user/anaconda3/envs/python3/lib/python3.6/site-packages (from gensim==3.7.1->-r ../src/requirements.txt (line 6)) (1.5.3)\n",
      "Requirement already satisfied: protobuf>=3.2.0 in /home/ec2-user/anaconda3/envs/python3/lib/python3.6/site-packages (from tensorboardX==1.6->-r ../src/requirements.txt (line 7)) (3.15.2)\n"
     ]
    }
   ],
   "source": [
    "! pip install -r ../src/requirements.txt"
   ]
  },
  {
   "cell_type": "code",
   "execution_count": 5,
   "id": "6899cd2b",
   "metadata": {},
   "outputs": [
    {
     "name": "stdout",
     "output_type": "stream",
     "text": [
      "torch version:  1.8.1+cu102\n"
     ]
    }
   ],
   "source": [
    "import torch\n",
    "print(\"torch version: \", torch.__version__)\n"
   ]
  },
  {
   "cell_type": "markdown",
   "id": "a55c2d5f",
   "metadata": {},
   "source": [
    "## 로컬 모드 셋업\n",
    "- 기본 다커 폴더 위치 변경 등을 함."
   ]
  },
  {
   "cell_type": "code",
   "execution_count": 8,
   "id": "1b44c7b4",
   "metadata": {},
   "outputs": [
    {
     "name": "stdout",
     "output_type": "stream",
     "text": [
      "nvidia-docker2 already installed. We are good to go!\n",
      "Stopping docker: \u001b[60G[\u001b[0;32m  OK  \u001b[0;39m]\n",
      "Starting docker:\t.\u001b[60G[\u001b[0;32m  OK  \u001b[0;39m]\n",
      "SageMaker instance route table setup is ok. We are good to go.\n",
      "SageMaker instance routing for Docker is ok. We are good to go!\n"
     ]
    }
   ],
   "source": [
    "! bash local_mode_setup.sh"
   ]
  },
  {
   "cell_type": "code",
   "execution_count": null,
   "id": "02b852d8",
   "metadata": {},
   "outputs": [],
   "source": []
  }
 ],
 "metadata": {
  "kernelspec": {
   "display_name": "conda_python3",
   "language": "python",
   "name": "conda_python3"
  },
  "language_info": {
   "codemirror_mode": {
    "name": "ipython",
    "version": 3
   },
   "file_extension": ".py",
   "mimetype": "text/x-python",
   "name": "python",
   "nbconvert_exporter": "python",
   "pygments_lexer": "ipython3",
   "version": "3.6.13"
  }
 },
 "nbformat": 4,
 "nbformat_minor": 5
}
